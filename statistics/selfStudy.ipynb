{
 "cells": [
  {
   "cell_type": "markdown",
   "metadata": {},
   "source": [
    "# week 2"
   ]
  },
  {
   "cell_type": "code",
   "execution_count": 1,
   "metadata": {},
   "outputs": [],
   "source": [
    "import sys\n",
    "print(sys.version_info)"
   ]
  },
  {
   "cell_type": "code",
   "execution_count": 2,
   "metadata": {},
   "outputs": [
    {
     "name": "stdout",
     "output_type": "stream",
     "text": [
      " D 드라이브의 볼륨에는 이름이 없습니다.\n",
      " 볼륨 일련 번호: C618-E0D9\n",
      "\n",
      " d:\\ 디렉터리\n",
      "\n",
      "2019-01-13  오전 11:58    <DIR>          LOST.DIR\n",
      "2018-10-21  오전 02:20    <DIR>          GoogleDrive\n",
      "2018-10-21  오전 02:32    <DIR>          programming\n",
      "2018-10-21  오전 02:32    <DIR>          배경사진\n",
      "2018-10-26  오후 11:50    <DIR>          SteamLibrary\n",
      "2020-02-28  오후 03:03    <DIR>          VMware\n",
      "2020-08-07  오전 12:18    <DIR>          Windows10Upgrade\n",
      "2020-09-23  오후 02:03    <DIR>          OneDrive - 숭실대학교 - Soongsil University\n",
      "               0개 파일                   0 바이트\n",
      "               8개 디렉터리  41,680,764,928 바이트 남음\n"
     ]
    }
   ],
   "source": [
    "!dir d:\\"
   ]
  },
  {
   "cell_type": "code",
   "execution_count": 3,
   "metadata": {},
   "outputs": [
    {
     "name": "stdout",
     "output_type": "stream",
     "text": [
      "확률및통계\n",
      "확률및통계(스마트시스템소프트웨어학과)\n",
      "['자료구조', '알고리즘']\n"
     ]
    }
   ],
   "source": [
    "class_list = [\"확률및통계\", \"자료구조\", \"알고리즘\", \"이산수학\"]\n",
    "print(class_list[0]) # 이런 식으로 조회합니다. \n",
    "\n",
    "class_list[0] = \"확률및통계(스마트시스템소프트웨어학과)\" # 이런식으로 각 index의 내용을 바꿀 수 있습니다\n",
    "print(class_list[0]) # 이런 식으로 조회합니다.\n",
    "\n",
    "print(class_list[1:3]) # [:] 을 통해서 sublist를 불러올 수 있습니다. [a:b]는 a,a+1,...,b-1 까지를 의미합니다"
   ]
  },
  {
   "cell_type": "code",
   "execution_count": 4,
   "metadata": {},
   "outputs": [
    {
     "data": {
      "text/plain": [
       "['확률및통계(스마트시스템소프트웨어학과)', '알고리즘']"
      ]
     },
     "execution_count": 4,
     "metadata": {},
     "output_type": "execute_result"
    }
   ],
   "source": [
    "class_list[::2] # 매 2개마다 sampling도 가능합니다"
   ]
  },
  {
   "cell_type": "code",
   "execution_count": 5,
   "metadata": {},
   "outputs": [
    {
     "name": "stdout",
     "output_type": "stream",
     "text": [
      "[['확률및통계(스마트시스템소프트웨어학과)', '자료구조', '알고리즘', '이산수학'], ['GitHub 가입', 'Python 설치', '문제 1번 풀기', '문제 2번 풀기']]\n",
      "문제 1번 풀기\n",
      "[['확률및통계(스마트시스템소프트웨어학과)', '자료구조', '알고리즘', '이산수학'], ['GitHub 가입', 'Python 설치', '문제 1번 풀기', '문제 2번 풀기', '문제 3번 풀기']]\n",
      "[['확률및통계(스마트시스템소프트웨어학과)', '자료구조', '알고리즘', '이산수학'], ['GitHub 가입', '아이디와 이메일 보내기', 'Python 설치', '문제 1번 풀기', '문제 2번 풀기', '문제 3번 풀기']]\n",
      "[['확률및통계(스마트시스템소프트웨어학과)', '자료구조', '알고리즘', '이산수학'], ['GitHub 가입', '아이디와 이메일 보내기', 'Python 설치', '문제 1번 풀기', '문제 3번 풀기']]\n",
      "['A', 'B', 'A']\n",
      "[['확률및통계(스마트시스템소프트웨어학과)', '자료구조', '알고리즘', '이산수학'], ['GitHub 가입', 'Python 설치', '문제 1번 풀기', '문제 3번 풀기', '아이디와 이메일 보내기']]\n",
      "[['확률및통계(스마트시스템소프트웨어학과)', '자료구조', '알고리즘', '이산수학'], ['아이디와 이메일 보내기', '문제 3번 풀기', '문제 1번 풀기', 'Python 설치', 'GitHub 가입']]\n",
      "[['확률및통계(스마트시스템소프트웨어학과)', '자료구조', '알고리즘', '이산수학'], ['GitHub 가입', 'Python 설치', '문제 1번 풀기', '문제 3번 풀기', '아이디와 이메일 보내기']]\n",
      "[['확률및통계(스마트시스템소프트웨어학과)', '자료구조', '알고리즘', '이산수학'], ['GitHub 가입', 'Python 설치', '문제 1번 풀기', '아이디와 이메일 보내기']]\n"
     ]
    }
   ],
   "source": [
    "homework_list = [\"GitHub 가입\", \"Python 설치\", \"문제 1번 풀기\", \"문제 2번 풀기\"]\n",
    "this_week = [class_list, homework_list]\n",
    "print(this_week)\n",
    "print(this_week[1][2])\n",
    "\n",
    "homework_list.append(\"문제 3번 풀기\") # append를 통해 맨 뒤에 element를 추가할 수 있습니다.\n",
    "# 중요: list의 이름은 C++의 pointer같이 자료의 메모리상 위치를 다룹니다. \n",
    "# 그래서 this_week의 내용도 바뀌어 있습니다.\n",
    "print(this_week) \n",
    "\n",
    "homework_list.insert(1, \"아이디와 이메일 보내기\") \n",
    "# insert를 이용해 임의의 위치에 삽입할 수 있습니다.\n",
    "# 자료구조 들으신 분들은 아시겠지만 이런 임의 삽입 연산은 매우 느립니다.\n",
    "print(this_week)\n",
    "\n",
    "homework_list.remove(\"문제 2번 풀기\") # 같은 이름의 성분을 지웁니다\n",
    "print(this_week)\n",
    "\n",
    "sample_list = [\"A\", \"A\", \"B\", \"A\"]\n",
    "sample_list.remove(\"A\") # 이렇게 되면 모든 \"A\"를 지우지 않고, 맨 앞의 것만 지워집니다.\n",
    "print(sample_list)\n",
    "\n",
    "homework_list.sort() # 역순으로 뒤집을 수도 있습니다\n",
    "print(this_week)\n",
    "\n",
    "homework_list.sort(reverse=True) # 역순으로 뒤집을 수도 있습니다\n",
    "print(this_week)\n",
    "\n",
    "homework_list.reverse() # 전체의 순서를 한 번에 뒤집을 수도 있습니다.\n",
    "print(this_week)\n",
    "\n",
    "del homework_list[3] # 3번 인덱스의 자료를 지웁니다. \n",
    "print(this_week)"
   ]
  },
  {
   "cell_type": "code",
   "execution_count": 6,
   "metadata": {},
   "outputs": [
    {
     "name": "stdout",
     "output_type": "stream",
     "text": [
      "<class 'dict'>\n",
      "20201010\n",
      "20201010\n",
      "{'Tom': 20201010, 'Mike': 20191219}\n",
      "{'Tom': 20201010, 'Mike': 20191219, 'Jane': 20172193}\n",
      "{'Tom': 20201010, 'Mike': 20192191, 'Jane': 20172193}\n",
      "3\n",
      "dict_items([('Tom', 20201010), ('Mike', 20192191), ('Jane', 20172193)])\n",
      "dict_keys(['Tom', 'Mike', 'Jane'])\n",
      "dict_values([20201010, 20192191, 20172193])\n"
     ]
    }
   ],
   "source": [
    "student_number = {\"Tom\": 20201010, \"Mike\": 20191219, \"Jane\": 20172193} # dict\n",
    "print(type(student_number))\n",
    "\n",
    "print(student_number[\"Tom\"]) # 조회연산\n",
    "print(student_number.get(\"Tom\")) # 조회연산2\n",
    "\n",
    "del(student_number[\"Jane\"])\n",
    "print(student_number)\n",
    "\n",
    "student_number[\"Jane\"] = 20172193 # 없는 값을 이렇게 정의해줄 수도 있고\n",
    "print(student_number)\n",
    "\n",
    "student_number[\"Mike\"] = 20192191 # 있는 값을 교체할 수도 있습니다.\n",
    "print(student_number)\n",
    "\n",
    "print(len(student_number))\n",
    "# dictionary의 key로 int, string, flaot등 말고 tuple도 가질 수 있습니다 (list는 불가능합니다.)\n",
    "\n",
    "print(student_number.items())\n",
    "print(student_number.keys())\n",
    "print(student_number.values()) \n",
    "\n",
    "# 2.X에서는 iteritems, iterkeys, itervalues라는 iterator형태도 있었는데 3.x에서 삭제되었습니다."
   ]
  },
  {
   "cell_type": "code",
   "execution_count": 7,
   "metadata": {},
   "outputs": [
    {
     "name": "stdout",
     "output_type": "stream",
     "text": [
      "나는 윤진혁 이고, 숭실대학교 교수 입니다 2020년 부터 숭실대학교에서 일합니다\n",
      "나는 윤진혁 이고, 숭실대학교 교수 입니다 2020년 부터 숭실대학교에서 일합니다\n"
     ]
    }
   ],
   "source": [
    "name = \"윤진혁\"\n",
    "myclass = \"교수\"\n",
    "mystartingyear = 2020\n",
    "print(\"나는 %s 이고, 숭실대학교 %s 입니다 %d년 부터 숭실대학교에서 일합니다\" \n",
    "      % (name, myclass, mystartingyear))\n",
    "\n",
    "# python 3에는 fstring이라는 조금 더 진보한 방법도 있습니다 (추천)\n",
    "print(f\"나는 {name} 이고, 숭실대학교 {myclass} 입니다 {mystartingyear}년 부터 숭실대학교에서 일합니다\")"
   ]
  },
  {
   "cell_type": "code",
   "execution_count": 8,
   "metadata": {},
   "outputs": [],
   "source": [
    "class Student:\n",
    "    '''학생 정보에 대한 클래스입니다'''\n",
    "    __name = \"\" # python은 pritave 변수를 __으로 표현합니다 _인 경우는 protected 입니다\n",
    "    __id = 0\n",
    "    __gpa = 0.0\n",
    "    __department = \"\"\n",
    "    \n",
    "    # class 내에 정의된 함수를 method라고 합니다.\n",
    "    # class의 methods는 무조건 첫 번째 인자가 self 여야 합니다. \n",
    "    # https://wikidocs.net/1742 이 문서를 읽어보세요\n",
    "   \n",
    "    def __init__(self, name, id, gpa, department):\n",
    "        self.__name = name\n",
    "        self.__id = id\n",
    "        self.__gpa = gpa\n",
    "        self.__department = department\n",
    "           \n",
    "    def set_name(self, name): # self는 c++의 this같은 역할을 합니다.\n",
    "        self.__name = name\n",
    "    \n",
    "    def set_id(self, id):\n",
    "        self.__id = id\n",
    "\n",
    "    def set_gpa(self, gpa):\n",
    "        self.__gpa = gpa\n",
    "        \n",
    "    def set_department(self, department):\n",
    "        self.__department = department\n",
    "\n",
    "    def get_name(self):\n",
    "        return self.__name\n",
    "\n",
    "    def get_id(self):\n",
    "        return self.__id\n",
    "    \n",
    "    def get_gpa(self):\n",
    "        return self.__gpa\n",
    "       \n",
    "    def get_department(self):\n",
    "        return self.__department\n",
    "    \n",
    "    def get_type(self):\n",
    "        print(\"Student\")\n",
    "    \n",
    "    def toString(self):\n",
    "        return f\"학생 {self.__name}은(는) 학번이 {self.__id}이고, 평균학점은 {self.__gpa}이며 {self.__department}를 다닙니다\"\n",
    "\n",
    "class UnionStudent(Student):\n",
    "    __unionclass = \"\"\n",
    "    \n",
    "    def __init__(self, name, id, gpa, department, unionclass):\n",
    "        self.__unionclass = unionclass\n",
    "        super(UnionStudent, self).__init__(name, id, gpa, department) # 부모 클래스를 초기화\n",
    "        \n",
    "    def set_class(self, unionclass): \n",
    "        self.__unionclass = unionclass\n",
    "    \n",
    "    def get_class(self): \n",
    "        return self.__unionclass\n",
    "    \n",
    "    def get_type(self):\n",
    "        print(\"Student Union\")\n",
    "\n",
    "    def toString(self):\n",
    "        return f\"학생 {self.get_name()}은(는) 학번이 {self.get_id()}이고, 평균학점은 {self.get_gpa()}이며 {self.get_department()}를 다니는 학생회 {self.__unionclass}입니다\""
   ]
  },
  {
   "cell_type": "code",
   "execution_count": 9,
   "metadata": {},
   "outputs": [
    {
     "name": "stdout",
     "output_type": "stream",
     "text": [
      "학생 윤진혁은(는) 학번이 20202020이고, 평균학점은 4.3이며 스시소를 다닙니다\n",
      "학생 Mike은(는) 학번이 20202021이고, 평균학점은 4.3이며 스시소를 다니는 학생회 과대표입니다\n"
     ]
    }
   ],
   "source": [
    "jinhyuk = Student(\"윤진혁\", 20202020, 4.3, \"스시소\")\n",
    "print(jinhyuk.toString())\n",
    "\n",
    "mike = UnionStudent(\"Mike\", 20202021, 4.3, \"스시소\", \"과대표\")\n",
    "print(mike.toString())"
   ]
  },
  {
   "cell_type": "code",
   "execution_count": 10,
   "metadata": {},
   "outputs": [
    {
     "name": "stdout",
     "output_type": "stream",
     "text": [
      "[1, 2, 3, 4, 5, 6]\n",
      "[\n",
      ",\n",
      "3\n",
      "['2', '4', '6']\n",
      "[2, 2, 6, 4, 10, 6]\n",
      "{2: 200, 4: 400}\n"
     ]
    }
   ],
   "source": [
    "num_list = [1, 2, 3, 4, 5, 6]\n",
    "# num_list = list(range(6)) # 이렇게 간단히 정의 할 수도 있습니다.\n",
    "\n",
    "# 이 리스트의 element를 전부 str로 변환하고 싶다고 해 보죠\n",
    "str(num_list) # 이렇게 하면 한 개의 string이 됩니다. \n",
    "print(str(num_list))\n",
    "print((str(num_list))[0])\n",
    "print(str(num_list)[2]) # 그래서 index 2의 \"문자\" 인 , 이 출력되죠\n",
    "# 이걸 elementwise하게 바꾸는 것은 아래처럼 하시면 됩니다\n",
    "str_list = [str(x) for x in num_list]\n",
    "print(num_list[2]) # 원하는대로 3이 출력됩니다.\n",
    "\n",
    "# 만약 짝수만 가져와서 string으로 바꾸고 싶으면 어떻게 할까요?\n",
    "part_str_list = [str(x) for x in num_list if x%2 == 0]\n",
    "print(part_str_list)\n",
    "\n",
    "# 짝수는 그대로, 홀수는 두 배로 곱하고 싶다면?\n",
    "print([x if x%2==0 else x*2 for x in num_list]) # if/else를 모두 쓰려면 순서가 조금 다릅니다.\n",
    "\n",
    "num_dict = {1: 100, 2: 200, 3:300, 4:400}\n",
    "num_dict_filtered = {k: v for k, v in num_dict.items() if k%2 == 0} # dict나 set도 같은 방식으로 가능합니다.\n",
    "print(num_dict_filtered)"
   ]
  },
  {
   "cell_type": "markdown",
   "metadata": {},
   "source": [
    "# week 3"
   ]
  },
  {
   "cell_type": "code",
   "execution_count": 7,
   "metadata": {},
   "outputs": [],
   "source": [
    "import nsfg\n",
    "import pandas as pd"
   ]
  },
  {
   "cell_type": "code",
   "execution_count": 8,
   "metadata": {},
   "outputs": [
    {
     "data": {
      "text/html": [
       "<div>\n",
       "<style scoped>\n",
       "    .dataframe tbody tr th:only-of-type {\n",
       "        vertical-align: middle;\n",
       "    }\n",
       "\n",
       "    .dataframe tbody tr th {\n",
       "        vertical-align: top;\n",
       "    }\n",
       "\n",
       "    .dataframe thead th {\n",
       "        text-align: right;\n",
       "    }\n",
       "</style>\n",
       "<table border=\"1\" class=\"dataframe\">\n",
       "  <thead>\n",
       "    <tr style=\"text-align: right;\">\n",
       "      <th></th>\n",
       "      <th>caseid</th>\n",
       "      <th>pregordr</th>\n",
       "      <th>howpreg_n</th>\n",
       "      <th>howpreg_p</th>\n",
       "      <th>moscurrp</th>\n",
       "      <th>nowprgdk</th>\n",
       "      <th>pregend1</th>\n",
       "      <th>pregend2</th>\n",
       "      <th>nbrnaliv</th>\n",
       "      <th>multbrth</th>\n",
       "      <th>...</th>\n",
       "      <th>laborfor_i</th>\n",
       "      <th>religion_i</th>\n",
       "      <th>metro_i</th>\n",
       "      <th>basewgt</th>\n",
       "      <th>adj_mod_basewgt</th>\n",
       "      <th>finalwgt</th>\n",
       "      <th>secu_p</th>\n",
       "      <th>sest</th>\n",
       "      <th>cmintvw</th>\n",
       "      <th>totalwgt_lb</th>\n",
       "    </tr>\n",
       "  </thead>\n",
       "  <tbody>\n",
       "    <tr>\n",
       "      <th>0</th>\n",
       "      <td>1</td>\n",
       "      <td>1</td>\n",
       "      <td>NaN</td>\n",
       "      <td>NaN</td>\n",
       "      <td>NaN</td>\n",
       "      <td>NaN</td>\n",
       "      <td>6.0</td>\n",
       "      <td>NaN</td>\n",
       "      <td>1.0</td>\n",
       "      <td>NaN</td>\n",
       "      <td>...</td>\n",
       "      <td>0</td>\n",
       "      <td>0</td>\n",
       "      <td>0</td>\n",
       "      <td>3410.389399</td>\n",
       "      <td>3869.349602</td>\n",
       "      <td>6448.271112</td>\n",
       "      <td>2</td>\n",
       "      <td>9</td>\n",
       "      <td>NaN</td>\n",
       "      <td>8.8125</td>\n",
       "    </tr>\n",
       "    <tr>\n",
       "      <th>1</th>\n",
       "      <td>1</td>\n",
       "      <td>2</td>\n",
       "      <td>NaN</td>\n",
       "      <td>NaN</td>\n",
       "      <td>NaN</td>\n",
       "      <td>NaN</td>\n",
       "      <td>6.0</td>\n",
       "      <td>NaN</td>\n",
       "      <td>1.0</td>\n",
       "      <td>NaN</td>\n",
       "      <td>...</td>\n",
       "      <td>0</td>\n",
       "      <td>0</td>\n",
       "      <td>0</td>\n",
       "      <td>3410.389399</td>\n",
       "      <td>3869.349602</td>\n",
       "      <td>6448.271112</td>\n",
       "      <td>2</td>\n",
       "      <td>9</td>\n",
       "      <td>NaN</td>\n",
       "      <td>7.8750</td>\n",
       "    </tr>\n",
       "    <tr>\n",
       "      <th>2</th>\n",
       "      <td>2</td>\n",
       "      <td>1</td>\n",
       "      <td>NaN</td>\n",
       "      <td>NaN</td>\n",
       "      <td>NaN</td>\n",
       "      <td>NaN</td>\n",
       "      <td>5.0</td>\n",
       "      <td>NaN</td>\n",
       "      <td>3.0</td>\n",
       "      <td>5.0</td>\n",
       "      <td>...</td>\n",
       "      <td>0</td>\n",
       "      <td>0</td>\n",
       "      <td>0</td>\n",
       "      <td>7226.301740</td>\n",
       "      <td>8567.549110</td>\n",
       "      <td>12999.542264</td>\n",
       "      <td>2</td>\n",
       "      <td>12</td>\n",
       "      <td>NaN</td>\n",
       "      <td>9.1250</td>\n",
       "    </tr>\n",
       "    <tr>\n",
       "      <th>3</th>\n",
       "      <td>2</td>\n",
       "      <td>2</td>\n",
       "      <td>NaN</td>\n",
       "      <td>NaN</td>\n",
       "      <td>NaN</td>\n",
       "      <td>NaN</td>\n",
       "      <td>6.0</td>\n",
       "      <td>NaN</td>\n",
       "      <td>1.0</td>\n",
       "      <td>NaN</td>\n",
       "      <td>...</td>\n",
       "      <td>0</td>\n",
       "      <td>0</td>\n",
       "      <td>0</td>\n",
       "      <td>7226.301740</td>\n",
       "      <td>8567.549110</td>\n",
       "      <td>12999.542264</td>\n",
       "      <td>2</td>\n",
       "      <td>12</td>\n",
       "      <td>NaN</td>\n",
       "      <td>7.0000</td>\n",
       "    </tr>\n",
       "    <tr>\n",
       "      <th>4</th>\n",
       "      <td>2</td>\n",
       "      <td>3</td>\n",
       "      <td>NaN</td>\n",
       "      <td>NaN</td>\n",
       "      <td>NaN</td>\n",
       "      <td>NaN</td>\n",
       "      <td>6.0</td>\n",
       "      <td>NaN</td>\n",
       "      <td>1.0</td>\n",
       "      <td>NaN</td>\n",
       "      <td>...</td>\n",
       "      <td>0</td>\n",
       "      <td>0</td>\n",
       "      <td>0</td>\n",
       "      <td>7226.301740</td>\n",
       "      <td>8567.549110</td>\n",
       "      <td>12999.542264</td>\n",
       "      <td>2</td>\n",
       "      <td>12</td>\n",
       "      <td>NaN</td>\n",
       "      <td>6.1875</td>\n",
       "    </tr>\n",
       "  </tbody>\n",
       "</table>\n",
       "<p>5 rows × 244 columns</p>\n",
       "</div>"
      ],
      "text/plain": [
       "   caseid  pregordr  howpreg_n  howpreg_p  moscurrp  nowprgdk  pregend1  \\\n",
       "0       1         1        NaN        NaN       NaN       NaN       6.0   \n",
       "1       1         2        NaN        NaN       NaN       NaN       6.0   \n",
       "2       2         1        NaN        NaN       NaN       NaN       5.0   \n",
       "3       2         2        NaN        NaN       NaN       NaN       6.0   \n",
       "4       2         3        NaN        NaN       NaN       NaN       6.0   \n",
       "\n",
       "   pregend2  nbrnaliv  multbrth  ...  laborfor_i  religion_i  metro_i  \\\n",
       "0       NaN       1.0       NaN  ...           0           0        0   \n",
       "1       NaN       1.0       NaN  ...           0           0        0   \n",
       "2       NaN       3.0       5.0  ...           0           0        0   \n",
       "3       NaN       1.0       NaN  ...           0           0        0   \n",
       "4       NaN       1.0       NaN  ...           0           0        0   \n",
       "\n",
       "       basewgt  adj_mod_basewgt      finalwgt  secu_p  sest  cmintvw  \\\n",
       "0  3410.389399      3869.349602   6448.271112       2     9      NaN   \n",
       "1  3410.389399      3869.349602   6448.271112       2     9      NaN   \n",
       "2  7226.301740      8567.549110  12999.542264       2    12      NaN   \n",
       "3  7226.301740      8567.549110  12999.542264       2    12      NaN   \n",
       "4  7226.301740      8567.549110  12999.542264       2    12      NaN   \n",
       "\n",
       "   totalwgt_lb  \n",
       "0       8.8125  \n",
       "1       7.8750  \n",
       "2       9.1250  \n",
       "3       7.0000  \n",
       "4       6.1875  \n",
       "\n",
       "[5 rows x 244 columns]"
      ]
     },
     "execution_count": 8,
     "metadata": {},
     "output_type": "execute_result"
    }
   ],
   "source": [
    "# preg = nsfg.ReadFemPreg() \n",
    "# 위는 교과서에 예제에 나오는 파일을 읽는 함수입니다.\n",
    "# 꼭 dct파일을 쓸 이유가 없으므로, tsv형태로 변환된 데이터를 사용합니다 (아래 코드 사용). \n",
    "# preg.to_csv(\"./2002FemPreg.tsv\", sep = \"\\t\", index = None)\n",
    "\n",
    "preg = pd.read_csv(\"./2002FemPreg.tsv\",sep = \"\\t\")\n",
    "preg.head()"
   ]
  },
  {
   "cell_type": "code",
   "execution_count": 13,
   "metadata": {},
   "outputs": [
    {
     "data": {
      "text/html": [
       "<div>\n",
       "<style scoped>\n",
       "    .dataframe tbody tr th:only-of-type {\n",
       "        vertical-align: middle;\n",
       "    }\n",
       "\n",
       "    .dataframe tbody tr th {\n",
       "        vertical-align: top;\n",
       "    }\n",
       "\n",
       "    .dataframe thead th {\n",
       "        text-align: right;\n",
       "    }\n",
       "</style>\n",
       "<table border=\"1\" class=\"dataframe\">\n",
       "  <thead>\n",
       "    <tr style=\"text-align: right;\">\n",
       "      <th></th>\n",
       "      <th>caseid</th>\n",
       "      <th>pregordr</th>\n",
       "      <th>howpreg_n</th>\n",
       "      <th>howpreg_p</th>\n",
       "      <th>moscurrp</th>\n",
       "      <th>nowprgdk</th>\n",
       "      <th>pregend1</th>\n",
       "      <th>pregend2</th>\n",
       "      <th>nbrnaliv</th>\n",
       "      <th>multbrth</th>\n",
       "      <th>...</th>\n",
       "      <th>laborfor_i</th>\n",
       "      <th>religion_i</th>\n",
       "      <th>metro_i</th>\n",
       "      <th>basewgt</th>\n",
       "      <th>adj_mod_basewgt</th>\n",
       "      <th>finalwgt</th>\n",
       "      <th>secu_p</th>\n",
       "      <th>sest</th>\n",
       "      <th>cmintvw</th>\n",
       "      <th>totalwgt_lb</th>\n",
       "    </tr>\n",
       "  </thead>\n",
       "  <tbody>\n",
       "    <tr>\n",
       "      <th>0</th>\n",
       "      <td>1</td>\n",
       "      <td>1</td>\n",
       "      <td>NaN</td>\n",
       "      <td>NaN</td>\n",
       "      <td>NaN</td>\n",
       "      <td>NaN</td>\n",
       "      <td>6.0</td>\n",
       "      <td>NaN</td>\n",
       "      <td>1.0</td>\n",
       "      <td>NaN</td>\n",
       "      <td>...</td>\n",
       "      <td>0</td>\n",
       "      <td>0</td>\n",
       "      <td>0</td>\n",
       "      <td>3410.389399</td>\n",
       "      <td>3869.349602</td>\n",
       "      <td>6448.271112</td>\n",
       "      <td>2</td>\n",
       "      <td>9</td>\n",
       "      <td>NaN</td>\n",
       "      <td>8.8125</td>\n",
       "    </tr>\n",
       "    <tr>\n",
       "      <th>1</th>\n",
       "      <td>1</td>\n",
       "      <td>2</td>\n",
       "      <td>NaN</td>\n",
       "      <td>NaN</td>\n",
       "      <td>NaN</td>\n",
       "      <td>NaN</td>\n",
       "      <td>6.0</td>\n",
       "      <td>NaN</td>\n",
       "      <td>1.0</td>\n",
       "      <td>NaN</td>\n",
       "      <td>...</td>\n",
       "      <td>0</td>\n",
       "      <td>0</td>\n",
       "      <td>0</td>\n",
       "      <td>3410.389399</td>\n",
       "      <td>3869.349602</td>\n",
       "      <td>6448.271112</td>\n",
       "      <td>2</td>\n",
       "      <td>9</td>\n",
       "      <td>NaN</td>\n",
       "      <td>7.8750</td>\n",
       "    </tr>\n",
       "    <tr>\n",
       "      <th>2</th>\n",
       "      <td>2</td>\n",
       "      <td>1</td>\n",
       "      <td>NaN</td>\n",
       "      <td>NaN</td>\n",
       "      <td>NaN</td>\n",
       "      <td>NaN</td>\n",
       "      <td>5.0</td>\n",
       "      <td>NaN</td>\n",
       "      <td>3.0</td>\n",
       "      <td>5.0</td>\n",
       "      <td>...</td>\n",
       "      <td>0</td>\n",
       "      <td>0</td>\n",
       "      <td>0</td>\n",
       "      <td>7226.301740</td>\n",
       "      <td>8567.549110</td>\n",
       "      <td>12999.542264</td>\n",
       "      <td>2</td>\n",
       "      <td>12</td>\n",
       "      <td>NaN</td>\n",
       "      <td>9.1250</td>\n",
       "    </tr>\n",
       "    <tr>\n",
       "      <th>3</th>\n",
       "      <td>2</td>\n",
       "      <td>2</td>\n",
       "      <td>NaN</td>\n",
       "      <td>NaN</td>\n",
       "      <td>NaN</td>\n",
       "      <td>NaN</td>\n",
       "      <td>6.0</td>\n",
       "      <td>NaN</td>\n",
       "      <td>1.0</td>\n",
       "      <td>NaN</td>\n",
       "      <td>...</td>\n",
       "      <td>0</td>\n",
       "      <td>0</td>\n",
       "      <td>0</td>\n",
       "      <td>7226.301740</td>\n",
       "      <td>8567.549110</td>\n",
       "      <td>12999.542264</td>\n",
       "      <td>2</td>\n",
       "      <td>12</td>\n",
       "      <td>NaN</td>\n",
       "      <td>7.0000</td>\n",
       "    </tr>\n",
       "    <tr>\n",
       "      <th>4</th>\n",
       "      <td>2</td>\n",
       "      <td>3</td>\n",
       "      <td>NaN</td>\n",
       "      <td>NaN</td>\n",
       "      <td>NaN</td>\n",
       "      <td>NaN</td>\n",
       "      <td>6.0</td>\n",
       "      <td>NaN</td>\n",
       "      <td>1.0</td>\n",
       "      <td>NaN</td>\n",
       "      <td>...</td>\n",
       "      <td>0</td>\n",
       "      <td>0</td>\n",
       "      <td>0</td>\n",
       "      <td>7226.301740</td>\n",
       "      <td>8567.549110</td>\n",
       "      <td>12999.542264</td>\n",
       "      <td>2</td>\n",
       "      <td>12</td>\n",
       "      <td>NaN</td>\n",
       "      <td>6.1875</td>\n",
       "    </tr>\n",
       "    <tr>\n",
       "      <th>...</th>\n",
       "      <td>...</td>\n",
       "      <td>...</td>\n",
       "      <td>...</td>\n",
       "      <td>...</td>\n",
       "      <td>...</td>\n",
       "      <td>...</td>\n",
       "      <td>...</td>\n",
       "      <td>...</td>\n",
       "      <td>...</td>\n",
       "      <td>...</td>\n",
       "      <td>...</td>\n",
       "      <td>...</td>\n",
       "      <td>...</td>\n",
       "      <td>...</td>\n",
       "      <td>...</td>\n",
       "      <td>...</td>\n",
       "      <td>...</td>\n",
       "      <td>...</td>\n",
       "      <td>...</td>\n",
       "      <td>...</td>\n",
       "      <td>...</td>\n",
       "    </tr>\n",
       "    <tr>\n",
       "      <th>13588</th>\n",
       "      <td>12571</td>\n",
       "      <td>1</td>\n",
       "      <td>NaN</td>\n",
       "      <td>NaN</td>\n",
       "      <td>NaN</td>\n",
       "      <td>NaN</td>\n",
       "      <td>6.0</td>\n",
       "      <td>NaN</td>\n",
       "      <td>1.0</td>\n",
       "      <td>NaN</td>\n",
       "      <td>...</td>\n",
       "      <td>0</td>\n",
       "      <td>0</td>\n",
       "      <td>0</td>\n",
       "      <td>4670.540953</td>\n",
       "      <td>5795.692880</td>\n",
       "      <td>6269.200989</td>\n",
       "      <td>1</td>\n",
       "      <td>78</td>\n",
       "      <td>NaN</td>\n",
       "      <td>6.1875</td>\n",
       "    </tr>\n",
       "    <tr>\n",
       "      <th>13589</th>\n",
       "      <td>12571</td>\n",
       "      <td>2</td>\n",
       "      <td>NaN</td>\n",
       "      <td>NaN</td>\n",
       "      <td>NaN</td>\n",
       "      <td>NaN</td>\n",
       "      <td>3.0</td>\n",
       "      <td>NaN</td>\n",
       "      <td>NaN</td>\n",
       "      <td>NaN</td>\n",
       "      <td>...</td>\n",
       "      <td>0</td>\n",
       "      <td>0</td>\n",
       "      <td>0</td>\n",
       "      <td>4670.540953</td>\n",
       "      <td>5795.692880</td>\n",
       "      <td>6269.200989</td>\n",
       "      <td>1</td>\n",
       "      <td>78</td>\n",
       "      <td>NaN</td>\n",
       "      <td>NaN</td>\n",
       "    </tr>\n",
       "    <tr>\n",
       "      <th>13590</th>\n",
       "      <td>12571</td>\n",
       "      <td>3</td>\n",
       "      <td>NaN</td>\n",
       "      <td>NaN</td>\n",
       "      <td>NaN</td>\n",
       "      <td>NaN</td>\n",
       "      <td>3.0</td>\n",
       "      <td>NaN</td>\n",
       "      <td>NaN</td>\n",
       "      <td>NaN</td>\n",
       "      <td>...</td>\n",
       "      <td>0</td>\n",
       "      <td>0</td>\n",
       "      <td>0</td>\n",
       "      <td>4670.540953</td>\n",
       "      <td>5795.692880</td>\n",
       "      <td>6269.200989</td>\n",
       "      <td>1</td>\n",
       "      <td>78</td>\n",
       "      <td>NaN</td>\n",
       "      <td>NaN</td>\n",
       "    </tr>\n",
       "    <tr>\n",
       "      <th>13591</th>\n",
       "      <td>12571</td>\n",
       "      <td>4</td>\n",
       "      <td>NaN</td>\n",
       "      <td>NaN</td>\n",
       "      <td>NaN</td>\n",
       "      <td>NaN</td>\n",
       "      <td>6.0</td>\n",
       "      <td>NaN</td>\n",
       "      <td>1.0</td>\n",
       "      <td>NaN</td>\n",
       "      <td>...</td>\n",
       "      <td>0</td>\n",
       "      <td>0</td>\n",
       "      <td>0</td>\n",
       "      <td>4670.540953</td>\n",
       "      <td>5795.692880</td>\n",
       "      <td>6269.200989</td>\n",
       "      <td>1</td>\n",
       "      <td>78</td>\n",
       "      <td>NaN</td>\n",
       "      <td>7.5000</td>\n",
       "    </tr>\n",
       "    <tr>\n",
       "      <th>13592</th>\n",
       "      <td>12571</td>\n",
       "      <td>5</td>\n",
       "      <td>NaN</td>\n",
       "      <td>NaN</td>\n",
       "      <td>NaN</td>\n",
       "      <td>NaN</td>\n",
       "      <td>6.0</td>\n",
       "      <td>NaN</td>\n",
       "      <td>1.0</td>\n",
       "      <td>NaN</td>\n",
       "      <td>...</td>\n",
       "      <td>0</td>\n",
       "      <td>0</td>\n",
       "      <td>0</td>\n",
       "      <td>4670.540953</td>\n",
       "      <td>5795.692880</td>\n",
       "      <td>6269.200989</td>\n",
       "      <td>1</td>\n",
       "      <td>78</td>\n",
       "      <td>NaN</td>\n",
       "      <td>7.5000</td>\n",
       "    </tr>\n",
       "  </tbody>\n",
       "</table>\n",
       "<p>13593 rows × 244 columns</p>\n",
       "</div>"
      ],
      "text/plain": [
       "       caseid  pregordr  howpreg_n  howpreg_p  moscurrp  nowprgdk  pregend1  \\\n",
       "0           1         1        NaN        NaN       NaN       NaN       6.0   \n",
       "1           1         2        NaN        NaN       NaN       NaN       6.0   \n",
       "2           2         1        NaN        NaN       NaN       NaN       5.0   \n",
       "3           2         2        NaN        NaN       NaN       NaN       6.0   \n",
       "4           2         3        NaN        NaN       NaN       NaN       6.0   \n",
       "...       ...       ...        ...        ...       ...       ...       ...   \n",
       "13588   12571         1        NaN        NaN       NaN       NaN       6.0   \n",
       "13589   12571         2        NaN        NaN       NaN       NaN       3.0   \n",
       "13590   12571         3        NaN        NaN       NaN       NaN       3.0   \n",
       "13591   12571         4        NaN        NaN       NaN       NaN       6.0   \n",
       "13592   12571         5        NaN        NaN       NaN       NaN       6.0   \n",
       "\n",
       "       pregend2  nbrnaliv  multbrth  ...  laborfor_i  religion_i  metro_i  \\\n",
       "0           NaN       1.0       NaN  ...           0           0        0   \n",
       "1           NaN       1.0       NaN  ...           0           0        0   \n",
       "2           NaN       3.0       5.0  ...           0           0        0   \n",
       "3           NaN       1.0       NaN  ...           0           0        0   \n",
       "4           NaN       1.0       NaN  ...           0           0        0   \n",
       "...         ...       ...       ...  ...         ...         ...      ...   \n",
       "13588       NaN       1.0       NaN  ...           0           0        0   \n",
       "13589       NaN       NaN       NaN  ...           0           0        0   \n",
       "13590       NaN       NaN       NaN  ...           0           0        0   \n",
       "13591       NaN       1.0       NaN  ...           0           0        0   \n",
       "13592       NaN       1.0       NaN  ...           0           0        0   \n",
       "\n",
       "           basewgt  adj_mod_basewgt      finalwgt  secu_p  sest  cmintvw  \\\n",
       "0      3410.389399      3869.349602   6448.271112       2     9      NaN   \n",
       "1      3410.389399      3869.349602   6448.271112       2     9      NaN   \n",
       "2      7226.301740      8567.549110  12999.542264       2    12      NaN   \n",
       "3      7226.301740      8567.549110  12999.542264       2    12      NaN   \n",
       "4      7226.301740      8567.549110  12999.542264       2    12      NaN   \n",
       "...            ...              ...           ...     ...   ...      ...   \n",
       "13588  4670.540953      5795.692880   6269.200989       1    78      NaN   \n",
       "13589  4670.540953      5795.692880   6269.200989       1    78      NaN   \n",
       "13590  4670.540953      5795.692880   6269.200989       1    78      NaN   \n",
       "13591  4670.540953      5795.692880   6269.200989       1    78      NaN   \n",
       "13592  4670.540953      5795.692880   6269.200989       1    78      NaN   \n",
       "\n",
       "       totalwgt_lb  \n",
       "0           8.8125  \n",
       "1           7.8750  \n",
       "2           9.1250  \n",
       "3           7.0000  \n",
       "4           6.1875  \n",
       "...            ...  \n",
       "13588       6.1875  \n",
       "13589          NaN  \n",
       "13590          NaN  \n",
       "13591       7.5000  \n",
       "13592       7.5000  \n",
       "\n",
       "[13593 rows x 244 columns]"
      ]
     },
     "execution_count": 13,
     "metadata": {},
     "output_type": "execute_result"
    }
   ],
   "source": [
    "preg"
   ]
  },
  {
   "cell_type": "code",
   "execution_count": 14,
   "metadata": {},
   "outputs": [
    {
     "data": {
      "text/plain": [
       "0        1\n",
       "1        1\n",
       "2        1\n",
       "3        1\n",
       "4        1\n",
       "        ..\n",
       "13588    1\n",
       "13589    2\n",
       "13590    2\n",
       "13591    1\n",
       "13592    1\n",
       "Name: outcome, Length: 13593, dtype: int64"
      ]
     },
     "execution_count": 14,
     "metadata": {},
     "output_type": "execute_result"
    }
   ],
   "source": [
    "preg['outcome']"
   ]
  },
  {
   "cell_type": "code",
   "execution_count": 15,
   "metadata": {},
   "outputs": [
    {
     "data": {
      "text/plain": [
       "Index(['caseid', 'pregordr', 'howpreg_n', 'howpreg_p', 'moscurrp', 'nowprgdk',\n",
       "       'pregend1', 'pregend2', 'nbrnaliv', 'multbrth',\n",
       "       ...\n",
       "       'laborfor_i', 'religion_i', 'metro_i', 'basewgt', 'adj_mod_basewgt',\n",
       "       'finalwgt', 'secu_p', 'sest', 'cmintvw', 'totalwgt_lb'],\n",
       "      dtype='object', length=244)"
      ]
     },
     "execution_count": 15,
     "metadata": {},
     "output_type": "execute_result"
    }
   ],
   "source": [
    "preg.columns"
   ]
  },
  {
   "cell_type": "code",
   "execution_count": 16,
   "metadata": {},
   "outputs": [
    {
     "name": "stdout",
     "output_type": "stream",
     "text": [
      "<class 'pandas.core.frame.DataFrame'>\n",
      "<class 'pandas.core.indexes.base.Index'>\n",
      "<class 'str'>\n",
      "<class 'pandas.core.series.Series'>\n"
     ]
    }
   ],
   "source": [
    "print(type(preg))\n",
    "print(type(preg.columns))\n",
    "print(type(preg.columns[0]))\n",
    "print(type(preg['pregordr']))"
   ]
  },
  {
   "cell_type": "code",
   "execution_count": 9,
   "metadata": {},
   "outputs": [
    {
     "data": {
      "text/plain": [
       "0        1\n",
       "1        2\n",
       "2        1\n",
       "3        2\n",
       "4        3\n",
       "        ..\n",
       "13588    1\n",
       "13589    2\n",
       "13590    3\n",
       "13591    4\n",
       "13592    5\n",
       "Name: pregordr, Length: 13593, dtype: int64"
      ]
     },
     "execution_count": 9,
     "metadata": {},
     "output_type": "execute_result"
    }
   ],
   "source": [
    "preg['pregordr']"
   ]
  },
  {
   "cell_type": "code",
   "execution_count": 20,
   "metadata": {},
   "outputs": [
    {
     "data": {
      "text/plain": [
       "1     5033\n",
       "2     3766\n",
       "3     2334\n",
       "4     1224\n",
       "5      613\n",
       "6      308\n",
       "7      158\n",
       "8       78\n",
       "9       38\n",
       "10      17\n",
       "11       8\n",
       "12       5\n",
       "13       3\n",
       "14       3\n",
       "18       1\n",
       "19       1\n",
       "17       1\n",
       "16       1\n",
       "15       1\n",
       "Name: pregordr, dtype: int64"
      ]
     },
     "execution_count": 20,
     "metadata": {},
     "output_type": "execute_result"
    }
   ],
   "source": [
    "#preg['pregordr'].value_counts().sort_index()\n",
    "preg.pregordr.value_counts()"
   ]
  },
  {
   "cell_type": "code",
   "execution_count": 19,
   "metadata": {},
   "outputs": [
    {
     "name": "stdout",
     "output_type": "stream",
     "text": [
      "       caseid  outcome\n",
      "11093   10229        4\n",
      "11094   10229        4\n",
      "11095   10229        4\n",
      "11096   10229        4\n",
      "11097   10229        4\n",
      "11098   10229        4\n",
      "11099   10229        1\n"
     ]
    }
   ],
   "source": [
    "from collections import defaultdict\n",
    "preg_map2 = defaultdict(list) # 위의 함수는 이런 식으로 작동합니다\n",
    "for index, caseid in preg.caseid.iteritems(): #caseid의 값을 돌며 index와 caseid 가져옴\n",
    "    preg_map2[caseid].append(index)\n",
    "    # index는 전체에서의 임신 순서입니다.\n",
    "caseid = 10229\n",
    "indices = preg_map2[caseid]\n",
    "print(preg.loc[indices,[\"caseid\", \"outcome\"]])"
   ]
  },
  {
   "cell_type": "markdown",
   "metadata": {},
   "source": [
    "# Exercises"
   ]
  },
  {
   "cell_type": "code",
   "execution_count": 20,
   "metadata": {},
   "outputs": [],
   "source": [
    "# resp = nsfg.ReadFemResp() \n",
    "resp = pd.read_csv(\"./2002FemResp.tsv\", sep = \"\\t\")"
   ]
  },
  {
   "cell_type": "markdown",
   "metadata": {},
   "source": [
    "`resp`에서 `age_r` column 을 골라서 값을 프린트 해 보세요. 가장 나이가 많거나 어린 사람의 연령은 어떻게 되나요?"
   ]
  },
  {
   "cell_type": "code",
   "execution_count": 116,
   "metadata": {},
   "outputs": [
    {
     "ename": "AttributeError",
     "evalue": "'Series' object has no attribute 'sorted_index'",
     "output_type": "error",
     "traceback": [
      "\u001b[1;31m---------------------------------------------------------------------------\u001b[0m",
      "\u001b[1;31mAttributeError\u001b[0m                            Traceback (most recent call last)",
      "\u001b[1;32m<ipython-input-116-749f44310633>\u001b[0m in \u001b[0;36m<module>\u001b[1;34m\u001b[0m\n\u001b[1;32m----> 1\u001b[1;33m \u001b[0mprint\u001b[0m\u001b[1;33m(\u001b[0m\u001b[0mresp\u001b[0m\u001b[1;33m.\u001b[0m\u001b[0mage_r\u001b[0m\u001b[1;33m.\u001b[0m\u001b[0msorted_index\u001b[0m\u001b[1;33m.\u001b[0m\u001b[0massending\u001b[0m\u001b[1;33m(\u001b[0m\u001b[1;32mFalse\u001b[0m\u001b[1;33m)\u001b[0m\u001b[1;33m)\u001b[0m\u001b[1;33m\u001b[0m\u001b[1;33m\u001b[0m\u001b[0m\n\u001b[0m\u001b[0;32m      2\u001b[0m \u001b[0mprint\u001b[0m\u001b[1;33m(\u001b[0m\u001b[1;34mf\"max value of age_r : {resp.age_r.max()}\"\u001b[0m\u001b[1;33m)\u001b[0m\u001b[1;33m\u001b[0m\u001b[1;33m\u001b[0m\u001b[0m\n\u001b[0;32m      3\u001b[0m \u001b[0mprint\u001b[0m\u001b[1;33m(\u001b[0m\u001b[1;34mf\"min value of age_r : {resp.age_r.min()}\"\u001b[0m\u001b[1;33m)\u001b[0m\u001b[1;33m\u001b[0m\u001b[1;33m\u001b[0m\u001b[0m\n",
      "\u001b[1;32m~\\miniconda3\\lib\\site-packages\\pandas\\core\\generic.py\u001b[0m in \u001b[0;36m__getattr__\u001b[1;34m(self, name)\u001b[0m\n\u001b[0;32m   5134\u001b[0m             \u001b[1;32mif\u001b[0m \u001b[0mself\u001b[0m\u001b[1;33m.\u001b[0m\u001b[0m_info_axis\u001b[0m\u001b[1;33m.\u001b[0m\u001b[0m_can_hold_identifiers_and_holds_name\u001b[0m\u001b[1;33m(\u001b[0m\u001b[0mname\u001b[0m\u001b[1;33m)\u001b[0m\u001b[1;33m:\u001b[0m\u001b[1;33m\u001b[0m\u001b[1;33m\u001b[0m\u001b[0m\n\u001b[0;32m   5135\u001b[0m                 \u001b[1;32mreturn\u001b[0m \u001b[0mself\u001b[0m\u001b[1;33m[\u001b[0m\u001b[0mname\u001b[0m\u001b[1;33m]\u001b[0m\u001b[1;33m\u001b[0m\u001b[1;33m\u001b[0m\u001b[0m\n\u001b[1;32m-> 5136\u001b[1;33m             \u001b[1;32mreturn\u001b[0m \u001b[0mobject\u001b[0m\u001b[1;33m.\u001b[0m\u001b[0m__getattribute__\u001b[0m\u001b[1;33m(\u001b[0m\u001b[0mself\u001b[0m\u001b[1;33m,\u001b[0m \u001b[0mname\u001b[0m\u001b[1;33m)\u001b[0m\u001b[1;33m\u001b[0m\u001b[1;33m\u001b[0m\u001b[0m\n\u001b[0m\u001b[0;32m   5137\u001b[0m \u001b[1;33m\u001b[0m\u001b[0m\n\u001b[0;32m   5138\u001b[0m     \u001b[1;32mdef\u001b[0m \u001b[0m__setattr__\u001b[0m\u001b[1;33m(\u001b[0m\u001b[0mself\u001b[0m\u001b[1;33m,\u001b[0m \u001b[0mname\u001b[0m\u001b[1;33m:\u001b[0m \u001b[0mstr\u001b[0m\u001b[1;33m,\u001b[0m \u001b[0mvalue\u001b[0m\u001b[1;33m)\u001b[0m \u001b[1;33m->\u001b[0m \u001b[1;32mNone\u001b[0m\u001b[1;33m:\u001b[0m\u001b[1;33m\u001b[0m\u001b[1;33m\u001b[0m\u001b[0m\n",
      "\u001b[1;31mAttributeError\u001b[0m: 'Series' object has no attribute 'sorted_index'"
     ]
    }
   ],
   "source": [
    "print(resp.age_r.sorted_index.assending(False))\n",
    "print(f\"max value of age_r : {resp.age_r.max()}\")\n",
    "print(f\"min value of age_r : {resp.age_r.min()}\")"
   ]
  },
  {
   "cell_type": "markdown",
   "metadata": {},
   "source": [
    "2298번 답변자는 얼마나 오래 임신기간을 유지했나요? "
   ]
  },
  {
   "cell_type": "code",
   "execution_count": 29,
   "metadata": {},
   "outputs": [
    {
     "data": {
      "text/plain": [
       "2610    40\n",
       "2611    36\n",
       "2612    30\n",
       "2613    40\n",
       "Name: prglngth, dtype: int64"
      ]
     },
     "execution_count": 29,
     "metadata": {},
     "output_type": "execute_result"
    }
   ],
   "source": [
    "preg[preg.caseid == 2298][\"prglngth\"]"
   ]
  },
  {
   "cell_type": "markdown",
   "metadata": {},
   "source": [
    "5012번 환자의 첫 아이의 `birthwgt` 는 몇 파운드인가요?"
   ]
  },
  {
   "cell_type": "code",
   "execution_count": 32,
   "metadata": {},
   "outputs": [
    {
     "data": {
      "text/plain": [
       "5515    6.0\n",
       "Name: totalwgt_lb, dtype: float64"
      ]
     },
     "execution_count": 32,
     "metadata": {},
     "output_type": "execute_result"
    }
   ],
   "source": [
    "preg[preg.caseid == 5012][\"totalwgt_lb\"].iloc[0]"
   ]
  },
  {
   "cell_type": "markdown",
   "metadata": {},
   "source": [
    "통상적으로 첫 째 아이가 더 늦게 태어난다는 속설이 있습니다. \n",
    "이를 확인하기 위해서 `prglngth`으로 첫째 아이와 첫째가 아닌 아이에 대한 평균임신기간을 계산해보세요.\n",
    "`birthord`에 몇번째 아이인지 나와있습니다\n",
    "\n"
   ]
  },
  {
   "cell_type": "code",
   "execution_count": 122,
   "metadata": {},
   "outputs": [
    {
     "name": "stdout",
     "output_type": "stream",
     "text": [
      "38.60095173351461\n",
      "25.17124183006536\n"
     ]
    },
    {
     "data": {
      "text/plain": [
       "array([], dtype=int64)"
      ]
     },
     "execution_count": 122,
     "metadata": {},
     "output_type": "execute_result"
    }
   ],
   "source": [
    "print(preg[preg[\"birthord\"] == 1][\"prglngth\"].mean())\n",
    "print(preg[preg[\"birthord\"] != 1][\"prglngth\"].mean())\n",
    "preg[preg[\"birthord\"] < 1][\"prglngth\"]"
   ]
  },
  {
   "cell_type": "markdown",
   "metadata": {},
   "source": [
    "# week 4"
   ]
  },
  {
   "cell_type": "code",
   "execution_count": 2,
   "metadata": {},
   "outputs": [],
   "source": [
    "values = [5,5,3,1,1,2,1,2,1,3,3,4,5,5]"
   ]
  },
  {
   "cell_type": "code",
   "execution_count": 41,
   "metadata": {},
   "outputs": [
    {
     "data": {
      "text/plain": [
       "{5: 4, 3: 3, 1: 4, 2: 2, 4: 1}"
      ]
     },
     "execution_count": 41,
     "metadata": {},
     "output_type": "execute_result"
    }
   ],
   "source": [
    "hist = {}\n",
    "for x in values:\n",
    "    hist[x] = hist.get(x, 0) + 1\n",
    "hist"
   ]
  },
  {
   "cell_type": "code",
   "execution_count": 42,
   "metadata": {},
   "outputs": [
    {
     "data": {
      "text/plain": [
       "Counter({5: 4, 3: 3, 1: 4, 2: 2, 4: 1})"
      ]
     },
     "execution_count": 42,
     "metadata": {},
     "output_type": "execute_result"
    }
   ],
   "source": [
    "from collections import Counter\n",
    "counter = Counter(values)\n",
    "counter"
   ]
  },
  {
   "cell_type": "code",
   "execution_count": 3,
   "metadata": {},
   "outputs": [
    {
     "data": {
      "text/plain": [
       "{1: 4, 2: 2, 3: 3, 4: 1, 5: 4}"
      ]
     },
     "execution_count": 3,
     "metadata": {},
     "output_type": "execute_result"
    }
   ],
   "source": [
    "#Python 표준 라이브러리 중 `itertools` 모듈의 `groupby` 함수를 쓰는 방법도 있습니다.\n",
    "#아래의 점들을 잊으면 안됩니다.\n",
    "#1. groupby는 정렬한 상태로 써야 합니다.\n",
    "#2. groupby는 값이 아니라 iterator를 반환합니다.\n",
    "\n",
    "from itertools import groupby\n",
    "{key: len(list(group)) for key, group in groupby(sorted(values))}"
   ]
  },
  {
   "cell_type": "code",
   "execution_count": 5,
   "metadata": {},
   "outputs": [
    {
     "name": "stdout",
     "output_type": "stream",
     "text": [
      "[0 4 0 3 1 4]\n"
     ]
    },
    {
     "data": {
      "text/plain": [
       "{0: 0, 1: 4, 2: 0, 3: 3, 4: 1, 5: 4}"
      ]
     },
     "execution_count": 5,
     "metadata": {},
     "output_type": "execute_result"
    }
   ],
   "source": [
    "import numpy as np\n",
    "values = [5,5,3,1,1,1,1,3,3,4,5,5]\n",
    "print(np.bincount(values))\n",
    "hist = {key: val for key, val in enumerate(np.bincount(values))}\n",
    "hist"
   ]
  },
  {
   "cell_type": "code",
   "execution_count": 46,
   "metadata": {},
   "outputs": [
    {
     "name": "stdout",
     "output_type": "stream",
     "text": [
      "For loop:  7.17814564704895\n",
      "collections.Counter:  4.149847984313965\n",
      "itertools.groupby:  14.683063983917236\n",
      "itertools.groupby sorted values:  12.478302955627441\n",
      "numpy bincount:  0.8500761985778809\n"
     ]
    }
   ],
   "source": [
    "# 속도테스트를 한 번 해 보죠.\n",
    "import random\n",
    "import time\n",
    "long_values = [random.uniform(1, 10) for _ in range(10000000)]\n",
    "\n",
    "start = time.time()\n",
    "hist = {}\n",
    "for x in long_values:\n",
    "    hist[x] = hist.get(x, 0) + 1\n",
    "print(\"For loop: \", time.time() - start)\n",
    "\n",
    "start = time.time()\n",
    "counter = Counter(long_values)\n",
    "print(\"collections.Counter: \", time.time() - start)\n",
    "\n",
    "start = time.time()\n",
    "hist = {key: len(list(group)) for key, group in groupby(sorted(long_values))}\n",
    "print(\"itertools.groupby: \", time.time() - start)\n",
    "\n",
    "sorted_long_values = sorted(long_values)\n",
    "start = time.time()\n",
    "hist = {key: len(list(group)) for key, group in groupby(sorted_long_values)}\n",
    "print(\"itertools.groupby sorted values: \", time.time() - start)\n",
    "\n",
    "start = time.time()\n",
    "hist = {key: val for key, val in enumerate(np.bincount(long_values))}\n",
    "print(\"numpy bincount: \", time.time() - start)"
   ]
  },
  {
   "cell_type": "code",
   "execution_count": 18,
   "metadata": {},
   "outputs": [
    {
     "data": {
      "image/png": "[encoded data removed]",
      "text/plain": [
       "<Figure size 432x288 with 1 Axes>"
      ]
     },
     "metadata": {
      "needs_background": "light"
     },
     "output_type": "display_data"
    }
   ],
   "source": [
    "import random\n",
    "long_values = [random.uniform(1, 10) for _ in range(100)] \n",
    "hist = {key: val for key, val in enumerate(np.bincount(long_values)) if val != 0}\n",
    "\n",
    "from matplotlib import pyplot as plt\n",
    "plt.bar(list(hist.keys()), list(hist.values()))\n",
    "plt.xlabel(\"Value\")\n",
    "plt.ylabel(\"Frequency\")\n",
    "plt.show()"
   ]
  },
  {
   "cell_type": "code",
   "execution_count": 33,
   "metadata": {},
   "outputs": [
    {
     "data": {
      "image/png": "[encoded data removed]",
      "text/plain": [
       "<Figure size 432x288 with 1 Axes>"
      ]
     },
     "metadata": {
      "needs_background": "light"
     },
     "output_type": "display_data"
    }
   ],
   "source": [
    "from matplotlib import pyplot as plt\n",
    "plt.hist(long_values)\n",
    "plt.xlabel(\"Value\")\n",
    "plt.ylabel(\"Frequency\")\n",
    "plt.show()"
   ]
  },
  {
   "cell_type": "code",
   "execution_count": 36,
   "metadata": {},
   "outputs": [
    {
     "data": {
      "image/png": "[encoded data removed]",
      "text/plain": [
       "<Figure size 432x288 with 1 Axes>"
      ]
     },
     "metadata": {
      "needs_background": "light"
     },
     "output_type": "display_data"
    }
   ],
   "source": [
    "from matplotlib import pyplot as plt\n",
    "plt.hist(long_values)\n",
    "plt.hist(long_values, bins = range(0, 12), rwidth = 0.8) # bins를 조정해보세요\n",
    "plt.xlabel(\"Value\")\n",
    "plt.ylabel(\"Frequency\")\n",
    "plt.show()"
   ]
  },
  {
   "cell_type": "markdown",
   "metadata": {},
   "source": [
    "히스토그램은 연속적인 데이터, 막대그래프는 이산데이터에 사용한다고 알고있다. 하지만 위 데이터에서는 이산데이터니까 범위기반 히스토그램이든 막대그래프든 모양이 같아야하는거 아닌가?"
   ]
  },
  {
   "cell_type": "code",
   "execution_count": 47,
   "metadata": {},
   "outputs": [
    {
     "data": {
      "image/png": "[encoded data removed]",
      "text/plain": [
       "<Figure size 432x288 with 1 Axes>"
      ]
     },
     "metadata": {
      "needs_background": "light"
     },
     "output_type": "display_data"
    }
   ],
   "source": [
    "import pandas as pd\n",
    "preg = pd.read_csv(\"./2002FemPreg.tsv\", sep = \"\\t\")\n",
    "live = preg[preg.outcome == 1]\n",
    "\n",
    "hist = plt.hist(live[\"birthwgt_lb\"], rwidth=0.8,label=\"birthwgt_lb\",\n",
    "               bins=20)\n",
    "plt.xlabel(\"Birth weight (in pounds)\")\n",
    "plt.ylabel(\"Frequency\")\n",
    "plt.show()\n",
    "plt.close()"
   ]
  },
  {
   "cell_type": "code",
   "execution_count": 42,
   "metadata": {},
   "outputs": [
    {
     "data": {
      "image/png": "[encoded data removed]",
      "text/plain": [
       "<Figure size 432x288 with 1 Axes>"
      ]
     },
     "metadata": {
      "needs_background": "light"
     },
     "output_type": "display_data"
    }
   ],
   "source": [
    "import pandas as pd\n",
    "preg = pd.read_csv(\"./2002FemPreg.tsv\", sep = \"\\t\")\n",
    "live = preg[preg.outcome == 1]\n",
    "\n",
    "hist = plt.hist(live[\"birthwgt_lb\"], rwidth=0.8, label=\"birthwgt_lb\",\n",
    "                bins=range(int(live[\"birthwgt_lb\"].min()), int(live[\"birthwgt_lb\"].max()+1)))\n",
    "plt.xlabel(\"Birth weight (in pounds)\")\n",
    "plt.ylabel(\"Frequency\")\n",
    "plt.show()\n",
    "plt.close()"
   ]
  },
  {
   "cell_type": "code",
   "execution_count": 51,
   "metadata": {},
   "outputs": [
    {
     "name": "stdout",
     "output_type": "stream",
     "text": [
      "<pandas.core.groupby.generic.DataFrameGroupBy object at 0x0000022DFD78F280>\n",
      "prglngth\n",
      "0        1\n",
      "4        1\n",
      "9        1\n",
      "13       1\n",
      "17       2\n",
      "18       1\n",
      "19       1\n",
      "20       1\n",
      "21       2\n",
      "22       7\n",
      "23       1\n",
      "24      13\n",
      "25       3\n",
      "26      35\n",
      "27       3\n",
      "28      32\n",
      "29      21\n",
      "30     138\n",
      "31      27\n",
      "32     115\n",
      "33      49\n",
      "34      60\n",
      "35     311\n",
      "36     321\n",
      "37     455\n",
      "38     607\n",
      "39    4693\n",
      "40    1116\n",
      "41     587\n",
      "42     328\n",
      "43     148\n",
      "44      46\n",
      "45      10\n",
      "46       1\n",
      "47       1\n",
      "48       7\n",
      "50       2\n",
      "Name: caseid, dtype: int64\n",
      "prglngth\n",
      "0        1\n",
      "4        1\n",
      "9        1\n",
      "13       1\n",
      "17       2\n",
      "18       1\n",
      "19       1\n",
      "20       1\n",
      "21       2\n",
      "22       7\n",
      "23       1\n",
      "24      13\n",
      "25       3\n",
      "26      35\n",
      "27       3\n",
      "28      32\n",
      "29      21\n",
      "30     138\n",
      "31      27\n",
      "32     115\n",
      "33      49\n",
      "34      60\n",
      "35     311\n",
      "36     321\n",
      "37     455\n",
      "38     607\n",
      "39    4693\n",
      "40    1116\n",
      "41     587\n",
      "42     328\n",
      "43     148\n",
      "44      46\n",
      "45      10\n",
      "46       1\n",
      "47       1\n",
      "48       7\n",
      "50       2\n",
      "Name: caseid, dtype: int64\n",
      "prglngth\n",
      "0     1\n",
      "4     1\n",
      "9     1\n",
      "13    1\n",
      "17    2\n",
      "18    1\n",
      "19    1\n",
      "20    1\n",
      "21    2\n",
      "22    7\n",
      "Name: caseid, dtype: int64\n"
     ]
    }
   ],
   "source": [
    "#제일 작은거 10개\n",
    "\n",
    "t = live.groupby(\"prglngth\")\n",
    "print(t)\n",
    "tt = t.count()[\"caseid\"]\n",
    "print(tt)\n",
    "ttt = tt.sort_index()\n",
    "print(ttt)\n",
    "tttt = ttt[0:10]\n",
    "print(tttt)"
   ]
  },
  {
   "cell_type": "code",
   "execution_count": 52,
   "metadata": {},
   "outputs": [
    {
     "data": {
      "text/plain": [
       "prglngth\n",
       "50       2\n",
       "48       7\n",
       "47       1\n",
       "46       1\n",
       "45      10\n",
       "44      46\n",
       "43     148\n",
       "42     328\n",
       "41     587\n",
       "40    1116\n",
       "Name: caseid, dtype: int64"
      ]
     },
     "execution_count": 52,
     "metadata": {},
     "output_type": "execute_result"
    }
   ],
   "source": [
    "# Solution goes here 제일큰거 10개\n",
    "live.groupby(\"prglngth\").count()[\"caseid\"].sort_index(ascending=False)[0:10]"
   ]
  },
  {
   "cell_type": "code",
   "execution_count": 59,
   "metadata": {},
   "outputs": [
    {
     "data": {
      "image/png": "[encoded data removed]",
      "text/plain": [
       "<Figure size 432x288 with 1 Axes>"
      ]
     },
     "metadata": {
      "needs_background": "light"
     },
     "output_type": "display_data"
    }
   ],
   "source": [
    "firsts = live[live.birthord == 1]\n",
    "others = live[live.birthord != 1]\n",
    "hist = firsts[\"prglngth\"].plot.hist(rwidth=0.8, label=\"First\", align = \"left\",\n",
    "                                 bins=range(int(live[\"prglngth\"].min()), int(live[\"prglngth\"].max()+1)))\n",
    "hist = others[\"prglngth\"].plot.hist(rwidth=0.8, label=\"Others\", align = \"mid\",\n",
    "                                 bins=range(int(live[\"prglngth\"].min()), int(live[\"prglngth\"].max()+1)))\n",
    "plt.xlabel(\"Weeks\")\n",
    "plt.ylabel(\"Count\")\n",
    "plt.legend()\n",
    "plt.show()\n",
    "plt.close()"
   ]
  },
  {
   "cell_type": "code",
   "execution_count": 63,
   "metadata": {},
   "outputs": [
    {
     "data": {
      "text/plain": [
       "(38.56055968517709, 39.0, 7.302662067826817, 2.702343810070587)"
      ]
     },
     "execution_count": 63,
     "metadata": {},
     "output_type": "execute_result"
    }
   ],
   "source": [
    "mean = live.prglngth.mean() #평균\n",
    "median = live.prglngth.median() #중간값\n",
    "var = live.prglngth.var() #분산\n",
    "std = live.prglngth.std() #표준편차\n",
    "\n",
    "mean, median, var, std"
   ]
  },
  {
   "cell_type": "code",
   "execution_count": 64,
   "metadata": {},
   "outputs": [
    {
     "data": {
      "text/plain": [
       "(2.702343810070587, 2.702343810070587)"
      ]
     },
     "execution_count": 64,
     "metadata": {},
     "output_type": "execute_result"
    }
   ],
   "source": [
    "# Solution goes here 표준편차 = 루트분산\n",
    "var ** 0.5, std"
   ]
  },
  {
   "cell_type": "code",
   "execution_count": 66,
   "metadata": {},
   "outputs": [
    {
     "data": {
      "text/plain": [
       "(38.60095173351461, 38.52291446673706)"
      ]
     },
     "execution_count": 66,
     "metadata": {},
     "output_type": "execute_result"
    }
   ],
   "source": [
    "print(firsts.prglngth.mean(), others.prglngth.mean())\n",
    "print(firsts.prglngth.mean() - others.prglngth.mean())"
   ]
  },
  {
   "cell_type": "code",
   "execution_count": 67,
   "metadata": {},
   "outputs": [],
   "source": [
    "def CohenEffectSize(group1, group2):\n",
    "    diff = group1.mean() - group2.mean()\n",
    "\n",
    "    var1 = group1.var()\n",
    "    var2 = group2.var()\n",
    "    n1, n2 = len(group1), len(group2)\n",
    "\n",
    "    pooled_var = (n1 * var1 + n2 * var2) / (n1 + n2)\n",
    "    d = diff / np.sqrt(pooled_var)\n",
    "    return d"
   ]
  },
  {
   "cell_type": "code",
   "execution_count": 70,
   "metadata": {},
   "outputs": [
    {
     "data": {
      "text/plain": [
       "0.028879044654449834"
      ]
     },
     "execution_count": 70,
     "metadata": {},
     "output_type": "execute_result"
    }
   ],
   "source": [
    "# Solution goes here\n",
    "CohenEffectSize(firsts.prglngth, others.prglngth)"
   ]
  },
  {
   "cell_type": "code",
   "execution_count": 68,
   "metadata": {},
   "outputs": [
    {
     "name": "stdout",
     "output_type": "stream",
     "text": [
      "0    39\n",
      "dtype: int64 39    2114\n",
      "Name: prglngth, dtype: int64\n"
     ]
    }
   ],
   "source": [
    "print(firsts.prglngth.mode(), firsts.prglngth.value_counts()[firsts.prglngth.mode()])"
   ]
  },
  {
   "cell_type": "code",
   "execution_count": 69,
   "metadata": {},
   "outputs": [
    {
     "data": {
      "image/png": "[encoded data removed]",
      "text/plain": [
       "<Figure size 432x288 with 1 Axes>"
      ]
     },
     "metadata": {},
     "output_type": "display_data"
    }
   ],
   "source": [
    "# Solution goes here\n",
    "plt.rcParams['figure.facecolor'] = 'white'\n",
    "live[\"prglngth\"].value_counts().plot.pie()\n",
    "#plt.xlabel(\"Income code\")\n",
    "#plt.ylabel(\"Frequency\")\n",
    "plt.show()\n",
    "plt.close()"
   ]
  },
  {
   "cell_type": "markdown",
   "metadata": {},
   "source": [
    "# Exercises"
   ]
  },
  {
   "cell_type": "markdown",
   "metadata": {},
   "source": [
    "`totalwgt_lb`를 통해서 첫 아이와 다른 아이들의 무게 차이에 대해서 분석해보세요\n",
    "\n",
    "일단 두 집단의 평균 차이를 구해보세요.\n",
    "\n",
    "그 다음에 두 집단의 차이를 CohenEffectSize를 통해 분석해 봅시다"
   ]
  },
  {
   "cell_type": "code",
   "execution_count": 75,
   "metadata": {},
   "outputs": [
    {
     "name": "stdout",
     "output_type": "stream",
     "text": [
      "first mean :  7.201094430437772\n",
      "others mean :  7.325855614973262\n",
      "first others gap :  -0.12476118453549034\n"
     ]
    }
   ],
   "source": [
    "preg = pd.read_csv(\"./2002FemPreg.tsv\", sep = \"\\t\")\n",
    "first = preg[preg[\"birthord\"]==1][\"totalwgt_lb\"]\n",
    "others = preg[preg[\"birthord\"]!=1][\"totalwgt_lb\"]\n",
    "print(\"first mean : \", first.mean())\n",
    "print(\"others mean : \", others.mean())\n",
    "print(\"first others gap : \", first.mean()-others.mean())"
   ]
  },
  {
   "cell_type": "code",
   "execution_count": 76,
   "metadata": {},
   "outputs": [
    {
     "data": {
      "text/plain": [
       "-0.08893641177719051"
      ]
     },
     "execution_count": 76,
     "metadata": {},
     "output_type": "execute_result"
    }
   ],
   "source": [
    "CohenEffectSize(first, others)"
   ]
  },
  {
   "cell_type": "markdown",
   "metadata": {},
   "source": [
    "다음 문제를 위해서는 답변서 파일을 로드해봅시다."
   ]
  },
  {
   "cell_type": "code",
   "execution_count": 71,
   "metadata": {},
   "outputs": [],
   "source": [
    "resp = pd.read_csv(\"./2002FemResp.tsv\", sep=\"\\t\")"
   ]
  },
  {
   "cell_type": "markdown",
   "metadata": {},
   "source": [
    "<tt>totincr</tt>은 답변자 가구의 총 소득을 나타냅니다. Histogram을 그려봅시다.\n",
    "\n",
    "[codebook](http://www.icpsr.umich.edu/nsfg6/Controller?displayPage=labelDetails&fileCode=FEM&section=R&subSec=7876&srtLabel=607543) 을 보시면 각 구간의 의미가 나와있습니다"
   ]
  },
  {
   "cell_type": "code",
   "execution_count": 104,
   "metadata": {},
   "outputs": [
    {
     "data": {
      "image/png": "[encoded data removed]",
      "text/plain": [
       "<Figure size 432x288 with 1 Axes>"
      ]
     },
     "metadata": {},
     "output_type": "display_data"
    }
   ],
   "source": [
    "from matplotlib import pyplot as plt\n",
    "plt.hist(resp[\"totincr\"], bins = range(resp[\"totincr\"].min(),resp[\"totincr\"].max()+2))\n",
    "plt.xlabel(\"Recode\")\n",
    "plt.ylabel(\"value\")\n",
    "plt.show()\n",
    "plt.close()"
   ]
  },
  {
   "cell_type": "markdown",
   "metadata": {},
   "source": [
    "<tt>age_r</tt>의 histogram을 그려봅시다. 답변자의 인터뷰 당시 나이를 나타냅니다"
   ]
  },
  {
   "cell_type": "code",
   "execution_count": 80,
   "metadata": {},
   "outputs": [
    {
     "data": {
      "image/png": "[encoded data removed]",
      "text/plain": [
       "<Figure size 432x288 with 1 Axes>"
      ]
     },
     "metadata": {},
     "output_type": "display_data"
    }
   ],
   "source": [
    "from matplotlib import pyplot as plt\n",
    "plt.hist(resp[\"age_r\"], label = \"age_r\", rwidth = 0.8)\n",
    "plt.xlabel(\"Recode\")\n",
    "plt.ylabel(\"value\")\n",
    "plt.show()\n",
    "plt.close()"
   ]
  },
  {
   "cell_type": "markdown",
   "metadata": {},
   "source": [
    "<tt>numfmhh</tt>의 histogram을 그려봅시다. 답변자의 가족 수를 나타냅니다."
   ]
  },
  {
   "cell_type": "code",
   "execution_count": 107,
   "metadata": {},
   "outputs": [
    {
     "data": {
      "image/png": "[encoded data removed]",
      "text/plain": [
       "<Figure size 432x288 with 1 Axes>"
      ]
     },
     "metadata": {},
     "output_type": "display_data"
    }
   ],
   "source": [
    "from matplotlib import pyplot as plt\n",
    "plt.hist(resp[\"numfmhh\"], label = \"numfmhh\",bins=range(int(resp[\"numfmhh\"].min()), int(resp[\"numfmhh\"].max()+2)))\n",
    "plt.xlabel(\"Recode\")\n",
    "plt.ylabel(\"value\")\n",
    "plt.legend()\n",
    "plt.show()\n",
    "plt.close()"
   ]
  },
  {
   "cell_type": "markdown",
   "metadata": {},
   "source": [
    "<tt>parity</tt>의 histogram을 그려봅시다. 답변자의 아이 수를 나타냅니다. 이 분포를 어떻게 이해할 수 있을까요?"
   ]
  },
  {
   "cell_type": "code",
   "execution_count": 108,
   "metadata": {},
   "outputs": [
    {
     "data": {
      "image/png": "[encoded data removed]",
      "text/plain": [
       "<Figure size 432x288 with 1 Axes>"
      ]
     },
     "metadata": {},
     "output_type": "display_data"
    }
   ],
   "source": [
    "from matplotlib import pyplot as plt\n",
    "resp[\"parity\"].plot.hist(bins=range(int(resp[\"parity\"].min()), int(resp[\"parity\"].max()+2)), rwidth = 0.8)\n",
    "plt.xlabel(\"Recode\")\n",
    "plt.ylabel(\"value\")\n",
    "plt.legend()\n",
    "plt.show()\n",
    "plt.close()"
   ]
  },
  {
   "cell_type": "markdown",
   "metadata": {},
   "source": [
    "<tt>parity</tt>의 가장 큰 값을 찾아봅시다. outlier의 의미는 무엇일까요?"
   ]
  },
  {
   "cell_type": "code",
   "execution_count": 86,
   "metadata": {},
   "outputs": [
    {
     "data": {
      "text/plain": [
       "22"
      ]
     },
     "execution_count": 86,
     "metadata": {},
     "output_type": "execute_result"
    }
   ],
   "source": [
    "resp.parity.max()"
   ]
  },
  {
   "cell_type": "markdown",
   "metadata": {},
   "source": [
    "아래의 가설에 대해서 이야기 해 봅시다. 소득이 높은 사람이 더 아이를 많이 낳는다는 이야기가 있습니다. 이 자료가 절대적인 자료가 아니고, 서로 다른 나이 (위의 age_r 분포를 보시면 알 것입니다)의 서로 다른 답변자들에 대한 통계를 다루므로 정답이란 없습니다. 다양한 통계 지표를 보면서 확인해보죠. <tt>totincr</tt> level 14의 고소득 답변자와 기타 답변자들의 답변이 어떻게 다른지 알아봅시다 (<tt>parity</tt>)."
   ]
  },
  {
   "cell_type": "code",
   "execution_count": 114,
   "metadata": {},
   "outputs": [
    {
     "data": {
      "image/png": "[encoded data removed]",
      "text/plain": [
       "<Figure size 432x288 with 1 Axes>"
      ]
     },
     "metadata": {},
     "output_type": "display_data"
    }
   ],
   "source": [
    "highwager = resp[resp.totincr == 14][\"parity\"]\n",
    "elsewager = resp[resp.totincr != 14][\"parity\"]\n",
    "\n",
    "highwager.plot.hist(bins = range(highwager.min(),highwager.max()+2), align = \"left\",rwidth = 0.8)\n",
    "elsewager.plot.hist(bins = range(elsewager.min(),elsewager.max()+2), align = \"mid\" , rwidth = 0.8)\n",
    "plt.xlabel(\"Number of children\")\n",
    "plt.ylabel(\"Frequency\")\n",
    "plt.show()\n",
    "plt.close()"
   ]
  },
  {
   "cell_type": "markdown",
   "metadata": {},
   "source": [
    "고소득 답변자 중 가장 아이를 많이 낳은 경우를 확인해봅시다"
   ]
  },
  {
   "cell_type": "code",
   "execution_count": 95,
   "metadata": {},
   "outputs": [
    {
     "data": {
      "text/plain": [
       "8"
      ]
     },
     "execution_count": 95,
     "metadata": {},
     "output_type": "execute_result"
    }
   ],
   "source": [
    "highwager.max()"
   ]
  },
  {
   "cell_type": "markdown",
   "metadata": {},
   "source": [
    "두 집단의 <tt>parity<\\tt> 평균을 비교해 봅시다"
   ]
  },
  {
   "cell_type": "code",
   "execution_count": 96,
   "metadata": {},
   "outputs": [
    {
     "name": "stdout",
     "output_type": "stream",
     "text": [
      "highwagers parity mean : 1.0758620689655172\n",
      "elsewagers parity mean : 1.2495758136665125\n"
     ]
    }
   ],
   "source": [
    "print(f\"highwagers parity mean : {highwager.mean()}\")\n",
    "print(f\"elsewagers parity mean : {elsewager.mean()}\")"
   ]
  },
  {
   "cell_type": "markdown",
   "metadata": {},
   "source": [
    "Cohen effect size를 재 봅시다"
   ]
  },
  {
   "cell_type": "code",
   "execution_count": 97,
   "metadata": {},
   "outputs": [
    {
     "data": {
      "text/plain": [
       "-0.12511855314660367"
      ]
     },
     "execution_count": 97,
     "metadata": {},
     "output_type": "execute_result"
    }
   ],
   "source": [
    "CohenEffectSize(highwager,elsewager)"
   ]
  },
  {
   "cell_type": "markdown",
   "metadata": {},
   "source": [
    "# week 6"
   ]
  },
  {
   "cell_type": "markdown",
   "metadata": {},
   "source": [
    "# PMF"
   ]
  },
  {
   "cell_type": "code",
   "execution_count": 1,
   "metadata": {},
   "outputs": [],
   "source": [
    "import numpy as np\n",
    "import pandas as pd\n",
    "from matplotlib import pyplot as plt"
   ]
  },
  {
   "cell_type": "code",
   "execution_count": 2,
   "metadata": {},
   "outputs": [],
   "source": [
    "preg = pd.read_csv(\"./2002FemPreg.tsv\", sep = \"\\t\")\n",
    "live = preg[preg.outcome == 1]"
   ]
  },
  {
   "cell_type": "code",
   "execution_count": 3,
   "metadata": {},
   "outputs": [
    {
     "data": {
      "image/png": "[encoded data removed]",
      "text/plain": [
       "<Figure size 432x288 with 1 Axes>"
      ]
     },
     "metadata": {
      "needs_background": "light"
     },
     "output_type": "display_data"
    }
   ],
   "source": [
    "plt.hist(live[\"birthwgt_lb\"], rwidth=0.8, label=\"birthwgt_lb\",\n",
    "                bins=range(int(live[\"birthwgt_lb\"].min()), int(live[\"birthwgt_lb\"].max()+2)))\n",
    "plt.xlabel(\"Birth weight (in pounds)\")\n",
    "plt.ylabel(\"Frequency\")\n",
    "plt.legend()\n",
    "plt.show()\n",
    "plt.close()"
   ]
  },
  {
   "cell_type": "code",
   "execution_count": 4,
   "metadata": {},
   "outputs": [
    {
     "data": {
      "text/plain": [
       "{0: 8,\n",
       " 1: 40,\n",
       " 2: 53,\n",
       " 3: 98,\n",
       " 4: 229,\n",
       " 5: 697,\n",
       " 6: 2223,\n",
       " 7: 3049,\n",
       " 8: 1889,\n",
       " 9: 623,\n",
       " 10: 132,\n",
       " 11: 26,\n",
       " 12: 10,\n",
       " 13: 3,\n",
       " 14: 3,\n",
       " 15: 1}"
      ]
     },
     "execution_count": 4,
     "metadata": {},
     "output_type": "execute_result"
    }
   ],
   "source": [
    "hist = {key: val for key, val in enumerate(np.bincount(live[\"birthwgt_lb\"].dropna()))} #정렬안해도 되나?\n",
    "hist"
   ]
  },
  {
   "cell_type": "code",
   "execution_count": 5,
   "metadata": {},
   "outputs": [
    {
     "data": {
      "text/plain": [
       "{0: 0.0008806693086745927,\n",
       " 1: 0.004403346543372964,\n",
       " 2: 0.005834434169969176,\n",
       " 3: 0.01078819903126376,\n",
       " 4: 0.025209158960810215,\n",
       " 5: 0.07672831351827389,\n",
       " 6: 0.24471598414795245,\n",
       " 7: 0.3356450902686041,\n",
       " 8: 0.2079480405107882,\n",
       " 9: 0.06858212241303391,\n",
       " 10: 0.01453104359313078,\n",
       " 11: 0.0028621752531924264,\n",
       " 12: 0.001100836635843241,\n",
       " 13: 0.00033025099075297226,\n",
       " 14: 0.00033025099075297226,\n",
       " 15: 0.00011008366358432408}"
      ]
     },
     "execution_count": 5,
     "metadata": {},
     "output_type": "execute_result"
    }
   ],
   "source": [
    "n = sum(hist.values())\n",
    "pmf = hist.copy()\n",
    "for x, freq in hist.items():\n",
    "    pmf[x] = freq / n\n",
    "pmf"
   ]
  },
  {
   "cell_type": "code",
   "execution_count": 6,
   "metadata": {},
   "outputs": [
    {
     "data": {
      "image/png": "[encoded data removed]",
      "text/plain": [
       "<Figure size 432x288 with 1 Axes>"
      ]
     },
     "metadata": {
      "needs_background": "light"
     },
     "output_type": "display_data"
    }
   ],
   "source": [
    "plt.bar(pmf.keys(), pmf.values())\n",
    "plt.xlabel(\"Value\")\n",
    "plt.ylabel(\"PMF\")\n",
    "plt.show()\n",
    "plt.close()"
   ]
  },
  {
   "cell_type": "code",
   "execution_count": 7,
   "metadata": {},
   "outputs": [
    {
     "data": {
      "text/plain": [
       "{1: 0.2, 2: 0.4, 3: 0.2, 5: 0.2}"
      ]
     },
     "execution_count": 7,
     "metadata": {},
     "output_type": "execute_result"
    }
   ],
   "source": [
    "values = [1, 2, 2, 3, 5]\n",
    "pmf = {key: val/len(values) for key, val in enumerate(np.bincount(values)) if val != 0}\n",
    "pmf"
   ]
  },
  {
   "cell_type": "code",
   "execution_count": 8,
   "metadata": {},
   "outputs": [
    {
     "data": {
      "text/plain": [
       "{1: 0.2, 2: 0.6000000000000001, 3: 0.2, 5: 0.2}"
      ]
     },
     "execution_count": 8,
     "metadata": {},
     "output_type": "execute_result"
    }
   ],
   "source": [
    "pmf[2] += 0.2\n",
    "pmf"
   ]
  },
  {
   "cell_type": "code",
   "execution_count": 9,
   "metadata": {},
   "outputs": [
    {
     "data": {
      "text/plain": [
       "{1: 0.16666666666666669,\n",
       " 2: 0.5000000000000001,\n",
       " 3: 0.16666666666666669,\n",
       " 5: 0.16666666666666669}"
      ]
     },
     "execution_count": 9,
     "metadata": {},
     "output_type": "execute_result"
    }
   ],
   "source": [
    "tot = sum(pmf.values())\n",
    "pmf = {key: val/tot for key, val in pmf.items()}\n",
    "pmf"
   ]
  },
  {
   "cell_type": "code",
   "execution_count": 10,
   "metadata": {},
   "outputs": [
    {
     "data": {
      "text/plain": [
       "{1: 0.11111111111111109,\n",
       " 2: 0.6666666666666666,\n",
       " 3: 0.11111111111111109,\n",
       " 5: 0.11111111111111109}"
      ]
     },
     "execution_count": 10,
     "metadata": {},
     "output_type": "execute_result"
    }
   ],
   "source": [
    "pmf[2] *= 2\n",
    "tot = sum(pmf.values())\n",
    "pmf = {key: val/tot for key, val in pmf.items()}\n",
    "pmf"
   ]
  },
  {
   "cell_type": "code",
   "execution_count": 11,
   "metadata": {},
   "outputs": [
    {
     "data": {
      "text/plain": [
       "0.9999999999999998"
      ]
     },
     "execution_count": 11,
     "metadata": {},
     "output_type": "execute_result"
    }
   ],
   "source": [
    "sum(pmf.values())"
   ]
  },
  {
   "cell_type": "code",
   "execution_count": 14,
   "metadata": {},
   "outputs": [],
   "source": [
    "pmf = {key: val/len(live[\"prglngth\"].dropna()) for key, val in enumerate(np.bincount(live[\"prglngth\"].dropna()))}"
   ]
  },
  {
   "cell_type": "code",
   "execution_count": 15,
   "metadata": {},
   "outputs": [
    {
     "data": {
      "image/png": "[encoded data removed]",
      "text/plain": [
       "<Figure size 432x288 with 1 Axes>"
      ]
     },
     "metadata": {
      "needs_background": "light"
     },
     "output_type": "display_data"
    }
   ],
   "source": [
    "plt.bar(pmf.keys(), pmf.values())\n",
    "plt.xlabel(\"Value\")\n",
    "plt.ylabel(\"PMF\")\n",
    "plt.show()\n",
    "plt.close()"
   ]
  },
  {
   "cell_type": "code",
   "execution_count": 16,
   "metadata": {},
   "outputs": [
    {
     "data": {
      "image/png": "[encoded data removed]",
      "text/plain": [
       "<Figure size 432x288 with 1 Axes>"
      ]
     },
     "metadata": {
      "needs_background": "light"
     },
     "output_type": "display_data"
    }
   ],
   "source": [
    "plt.step(list(pmf.keys()), list(pmf.values()))\n",
    "plt.xlabel(\"Value\")\n",
    "plt.ylabel(\"PMF\")\n",
    "plt.show()\n",
    "plt.close()"
   ]
  },
  {
   "cell_type": "code",
   "execution_count": 12,
   "metadata": {},
   "outputs": [],
   "source": [
    "firsts = live[live.birthord == 1]\n",
    "others = live[live.birthord != 1]\n",
    "first_pmf = {key: val/len(firsts[\"prglngth\"].dropna()) \n",
    "             for key, val in enumerate(np.bincount(firsts[\"prglngth\"].dropna()))}\n",
    "others_pmf = {key: val/len(others[\"prglngth\"].dropna()) \n",
    "             for key, val in enumerate(np.bincount(others[\"prglngth\"].dropna()))}"
   ]
  },
  {
   "cell_type": "code",
   "execution_count": 13,
   "metadata": {},
   "outputs": [
    {
     "data": {
      "image/png": "[encoded data removed]",
      "text/plain": [
       "<Figure size 432x288 with 1 Axes>"
      ]
     },
     "metadata": {
      "needs_background": "light"
     },
     "output_type": "display_data"
    },
    {
     "data": {
      "image/png": "[encoded data removed]",
      "text/plain": [
       "<Figure size 432x288 with 1 Axes>"
      ]
     },
     "metadata": {
      "needs_background": "light"
     },
     "output_type": "display_data"
    }
   ],
   "source": [
    "plt.step(list(first_pmf.keys()), list(first_pmf.values()), label=\"firsts\")\n",
    "plt.step(list(others_pmf.keys()), list(others_pmf.values()), label=\"others\")\n",
    "plt.xlabel(\"Pregnancy Length\")\n",
    "plt.ylabel(\"PMF\")\n",
    "plt.xlim(26, 45)\n",
    "plt.legend()\n",
    "plt.show()\n",
    "plt.close()\n",
    "\n",
    "plt.bar(list(first_pmf.keys()), list(first_pmf.values()), width=0.5, align=\"edge\", label=\"firsts\")\n",
    "plt.bar(list(others_pmf.keys()), list(others_pmf.values()), width=0.5, align=\"center\", label=\"others\")\n",
    "plt.xlabel(\"Pregnancy Length\")\n",
    "plt.ylabel(\"PMF\")\n",
    "plt.xlim(26, 45)\n",
    "plt.legend()\n",
    "plt.show()\n",
    "plt.close()"
   ]
  },
  {
   "cell_type": "code",
   "execution_count": 17,
   "metadata": {},
   "outputs": [
    {
     "data": {
      "image/png": "[encoded data removed]",
      "text/plain": [
       "<Figure size 432x288 with 1 Axes>"
      ]
     },
     "metadata": {
      "needs_background": "light"
     },
     "output_type": "display_data"
    }
   ],
   "source": [
    "weeks = range(35, 46)\n",
    "diffs = []\n",
    "for week in weeks:\n",
    "    p1 = first_pmf[week]\n",
    "    p2 = others_pmf[week]\n",
    "    diff = 100 * (p1 - p2)\n",
    "    diffs.append(diff)\n",
    "\n",
    "plt.bar(weeks, diffs)\n",
    "plt.xlabel(\"Pregnancy Length\")\n",
    "plt.ylabel(\"Difference in percent\")\n",
    "plt.show()\n",
    "plt.close()"
   ]
  },
  {
   "cell_type": "markdown",
   "metadata": {},
   "source": [
    "# CDF"
   ]
  },
  {
   "cell_type": "code",
   "execution_count": 18,
   "metadata": {},
   "outputs": [],
   "source": [
    "live = preg[preg.outcome == 1]\n",
    "firsts = live[live.birthord == 1]\n",
    "others = live[live.birthord != 1]"
   ]
  },
  {
   "cell_type": "code",
   "execution_count": 19,
   "metadata": {},
   "outputs": [
    {
     "name": "stdout",
     "output_type": "stream",
     "text": [
      "Firsts 4413 4363\n",
      "Others 4735 4675\n"
     ]
    }
   ],
   "source": [
    "first_wgt = firsts.totalwgt_lb\n",
    "first_wgt_dropna = first_wgt.dropna()\n",
    "print('Firsts', len(first_wgt), len(first_wgt_dropna))\n",
    "\n",
    "other_wgt = others.totalwgt_lb\n",
    "other_wgt_dropna = other_wgt.dropna()\n",
    "print('Others', len(other_wgt), len(other_wgt_dropna))\n",
    "\n",
    "first_hist, first_bins = np.histogram(first_wgt_dropna, bins=np.arange(0, 16, 0.05))\n",
    "first_pmf = {key: val/len(first_wgt_dropna) \n",
    "             for key, val in zip(first_bins, first_hist)}\n",
    "other_hist, other_bins = np.histogram(other_wgt_dropna, bins=np.arange(0, 16, 0.05))\n",
    "other_pmf = {key: val/len(other_wgt_dropna) \n",
    "             for key, val in zip(other_bins, other_hist)}"
   ]
  },
  {
   "cell_type": "code",
   "execution_count": 20,
   "metadata": {},
   "outputs": [
    {
     "data": {
      "image/png": "[encoded data removed]",
      "text/plain": [
       "<Figure size 432x288 with 1 Axes>"
      ]
     },
     "metadata": {
      "needs_background": "light"
     },
     "output_type": "display_data"
    }
   ],
   "source": [
    "plt.step(list(first_pmf.keys()), list(first_pmf.values()), label=\"firsts\")\n",
    "plt.step(list(other_pmf.keys()), list(other_pmf.values()), label=\"others\")\n",
    "plt.xlabel(\"Pregnancy Length\")\n",
    "plt.ylabel(\"PMF\")\n",
    "plt.legend()\n",
    "plt.show()\n",
    "plt.close()"
   ]
  },
  {
   "cell_type": "code",
   "execution_count": 21,
   "metadata": {},
   "outputs": [
    {
     "data": {
      "text/plain": [
       "80.0"
      ]
     },
     "execution_count": 21,
     "metadata": {},
     "output_type": "execute_result"
    }
   ],
   "source": [
    "def PercentileRank(scores, your_score):\n",
    "    count = 0\n",
    "    for score in scores:\n",
    "        if score <= your_score:\n",
    "            count += 1\n",
    "\n",
    "    percentile_rank = 100.0 * count / len(scores)\n",
    "    return percentile_rank\n",
    "\n",
    "# t라는 score list를 가지고 테스트해 봅시다. \n",
    "t = [55, 66, 77, 88, 99]\n",
    "PercentileRank(t, 88)\n",
    "# 전체의 상위 80% 이므로 80이라는 값이 리턴됩니다."
   ]
  },
  {
   "cell_type": "code",
   "execution_count": 22,
   "metadata": {},
   "outputs": [
    {
     "data": {
      "text/plain": [
       "77"
      ]
     },
     "execution_count": 22,
     "metadata": {},
     "output_type": "execute_result"
    }
   ],
   "source": [
    "def Percentile(scores, percentile_rank):\n",
    "    for score in sorted(scores):\n",
    "        if PercentileRank(scores, score) >= percentile_rank:\n",
    "            return score\n",
    "        \n",
    "# 테스트해봅시다.\n",
    "Percentile(t, 45)"
   ]
  },
  {
   "cell_type": "code",
   "execution_count": 23,
   "metadata": {},
   "outputs": [
    {
     "data": {
      "text/plain": [
       "66"
      ]
     },
     "execution_count": 23,
     "metadata": {},
     "output_type": "execute_result"
    }
   ],
   "source": [
    "def Percentile2(scores, percentile_rank):\n",
    "    scores.sort()\n",
    "    index = percentile_rank * (len(scores)-1) // 100 # // 과 / 의 차이 기억하시죠? 소숫점 유무!\n",
    "    return scores[index]\n",
    "Percentile2(t, 45)\n",
    "\n",
    "# 문제는 두 개의 작동이 약간 다르므로, 답이 다르게 나오는 것입니다 ^^: "
   ]
  },
  {
   "cell_type": "code",
   "execution_count": 24,
   "metadata": {},
   "outputs": [],
   "source": [
    "def evalCdf(sample, x):\n",
    "    count = 0.0\n",
    "    for value in sorted(sample):\n",
    "        if value <= x:\n",
    "            count += 1\n",
    "    prob = count / len(sample)\n",
    "    return prob\n",
    "\n",
    "def getValCdf(sample, cdf_value):\n",
    "    for score in sorted(sample):\n",
    "        if evalCdf(sample, score) >= cdf_value:\n",
    "            return score\n",
    "\n",
    "def evalCdfCdf(cdf, target_val):\n",
    "    for val, score in sorted(cdf.items()):\n",
    "        if val >= target_val:\n",
    "            return score\n",
    "        \n",
    "def getValCdfCdf(cdf, cdf_value):\n",
    "    for val, score in sorted(cdf.items()):\n",
    "        if score >= cdf_value:\n",
    "            return val"
   ]
  },
  {
   "cell_type": "code",
   "execution_count": 25,
   "metadata": {},
   "outputs": [
    {
     "name": "stdout",
     "output_type": "stream",
     "text": [
      "0.0 0.2 0.6 0.8 0.8 1.0\n"
     ]
    }
   ],
   "source": [
    "t = [1, 2, 2, 3, 5]\n",
    "print(evalCdf(t, 0), evalCdf(t, 1), evalCdf(t, 2), evalCdf(t, 3), evalCdf(t, 4), evalCdf(t, 5))"
   ]
  },
  {
   "cell_type": "code",
   "execution_count": 26,
   "metadata": {},
   "outputs": [],
   "source": [
    "def pmf2cdf(pmf_dict):\n",
    "    cdf_dict = {}\n",
    "    now = 0\n",
    "    for k, v in sorted(pmf_dict.items()):\n",
    "        now += v\n",
    "        cdf_dict[k] = now\n",
    "    return cdf_dict"
   ]
  },
  {
   "cell_type": "code",
   "execution_count": 27,
   "metadata": {},
   "outputs": [],
   "source": [
    "live_wgt = live.totalwgt_lb\n",
    "live_wgt_dropna = live_wgt.dropna()\n",
    "live_hist, live_bins = np.histogram(live_wgt_dropna, bins=np.arange(0, 16, 0.05))\n",
    "live_pmf = {key: val/len(live_wgt_dropna) \n",
    "             for key, val in zip(live_bins, live_hist)}\n",
    "live_cdf = pmf2cdf(live_pmf)\n",
    "first_cdf = pmf2cdf(first_pmf)\n",
    "other_cdf = pmf2cdf(other_pmf)"
   ]
  },
  {
   "cell_type": "code",
   "execution_count": 28,
   "metadata": {},
   "outputs": [
    {
     "data": {
      "image/png": "[encoded data removed]",
      "text/plain": [
       "<Figure size 432x288 with 1 Axes>"
      ]
     },
     "metadata": {
      "needs_background": "light"
     },
     "output_type": "display_data"
    }
   ],
   "source": [
    "plt.step(list(other_cdf.keys()), list(other_cdf.values()), label=\"others\")\n",
    "plt.xlabel(\"Pregnancy Length\")\n",
    "plt.ylabel(\"CDF\")\n",
    "plt.legend()\n",
    "plt.show()\n",
    "plt.close()"
   ]
  },
  {
   "cell_type": "code",
   "execution_count": 29,
   "metadata": {},
   "outputs": [
    {
     "name": "stdout",
     "output_type": "stream",
     "text": [
      "0.7332374419119274\n",
      "0.7332374419119274\n"
     ]
    },
    {
     "data": {
      "text/plain": [
       "7.3500000000000005"
      ]
     },
     "execution_count": 29,
     "metadata": {},
     "output_type": "execute_result"
    }
   ],
   "source": [
    "print(evalCdf(live_wgt_dropna, 8))\n",
    "print(evalCdfCdf(live_cdf, 8))\n",
    "getValCdfCdf(live_cdf, 0.5)"
   ]
  },
  {
   "cell_type": "code",
   "execution_count": 30,
   "metadata": {},
   "outputs": [
    {
     "data": {
      "image/png": "[encoded data removed]",
      "text/plain": [
       "<Figure size 432x288 with 1 Axes>"
      ]
     },
     "metadata": {
      "needs_background": "light"
     },
     "output_type": "display_data"
    }
   ],
   "source": [
    "plt.step(list(first_cdf.keys()), list(first_cdf.values()), label=\"firsts\")\n",
    "plt.step(list(other_cdf.keys()), list(other_cdf.values()), label=\"others\")\n",
    "plt.xlabel(\"Weights (poinds)\")\n",
    "plt.ylabel(\"CDF\")\n",
    "plt.legend()\n",
    "plt.show()\n",
    "plt.close()"
   ]
  },
  {
   "cell_type": "code",
   "execution_count": 31,
   "metadata": {},
   "outputs": [
    {
     "data": {
      "text/plain": [
       "(6.5, 8.1)"
      ]
     },
     "execution_count": 31,
     "metadata": {},
     "output_type": "execute_result"
    }
   ],
   "source": [
    "iqr = (getValCdfCdf(live_cdf, 0.25), getValCdfCdf(live_cdf, 0.75))\n",
    "iqr"
   ]
  },
  {
   "cell_type": "code",
   "execution_count": 32,
   "metadata": {},
   "outputs": [
    {
     "data": {
      "image/png": "[encoded data removed]",
      "text/plain": [
       "<Figure size 432x288 with 1 Axes>"
      ]
     },
     "metadata": {
      "needs_background": "light"
     },
     "output_type": "display_data"
    }
   ],
   "source": [
    "sample = np.random.choice(live_wgt_dropna, 20, replace=True) # SAMPLE SIZE를 바꾸어 가면서 확인해 봅시다\n",
    "sample_hist, sample_bins = np.histogram(sample, bins=np.arange(0, 16, 0.05))\n",
    "sample_pmf = {key: val/len(sample) \n",
    "             for key, val in zip(sample_bins, sample_hist)}\n",
    "sample_cdf = pmf2cdf(sample_pmf)\n",
    "\n",
    "plt.step(list(live_cdf.keys()), list(live_cdf.values()), label=\"lives\")\n",
    "plt.step(list(sample_cdf.keys()), list(sample_cdf.values()), label=\"samples\")\n",
    "plt.xlabel(\"Weights (poinds)\")\n",
    "plt.ylabel(\"CDF\")\n",
    "plt.legend()\n",
    "plt.show()\n",
    "plt.close()"
   ]
  },
  {
   "cell_type": "code",
   "execution_count": null,
   "metadata": {},
   "outputs": [],
   "source": []
  },
  {
   "cell_type": "code",
   "execution_count": null,
   "metadata": {},
   "outputs": [],
   "source": []
  },
  {
   "cell_type": "code",
   "execution_count": null,
   "metadata": {},
   "outputs": [],
   "source": []
  },
  {
   "cell_type": "code",
   "execution_count": null,
   "metadata": {},
   "outputs": [],
   "source": []
  },
  {
   "cell_type": "markdown",
   "metadata": {},
   "source": [
    "# Exercises"
   ]
  },
  {
   "cell_type": "markdown",
   "metadata": {},
   "source": [
    "**Exercise:** 첫 아이가 늦게 태어나는지에 대한 질문을 다시 한 번 해 봅시다. 지난 시간 까지는 어떤 산모에게 태어났든 평균적인 출산까지의 기간만을 계산했습니다. 하지만 개별 산모마다 기본적인 임신 기간의 차이가 있을 수도 있다는 사실을 무시했죠. 즉, 같은 산모가 두 아이를 낳은 경우에 첫 아기가 더 늦게 태어나는 경향이 있을 수도 있다는 것입니다. \n",
    "\n",
    "이 문제를 풀기 위해서, 2명 이상의 아이를 낳은 답변자들을 고려해 봅시다. 각 산모마다 첫 아이와 다른 아이의 임신 기간을 비교하고, 모든 산모의 평균을 내 봅시다. 이 경우에는 기존과 다른 결과가 나오나요? 그래프를 그려서 이해해봅시다\n",
    "\n",
    "힌트: 3주차의 \"preg_map\"을 만드는 방법을 기억해보세요."
   ]
  },
  {
   "cell_type": "code",
   "execution_count": null,
   "metadata": {},
   "outputs": [],
   "source": [
    "live = preg[preg.outcome == 1]\n",
    "live = live[live.prglngth >= 37]"
   ]
  },
  {
   "cell_type": "code",
   "execution_count": null,
   "metadata": {},
   "outputs": [],
   "source": [
    "# Solution goes here\n",
    "from collections import defaultdict\n",
    "\n",
    "preg_map = defaultdict(list)\n",
    "for index, caseid in live.caseid.iteritems():\n",
    "    preg_map[caseid].append(index)\n",
    "    # index는 전체에서의 임신 순서입니다.\n",
    "\n",
    "diffs = []\n",
    "for caseid, indices in preg_map.items():\n",
    "    lengths = live.loc[indices].prglngth.values\n",
    "    if len(lengths) >= 2:\n",
    "        case_diffs = [lengths[0] - x for x in lengths[1:]]\n",
    "        diffs.extend(case_diffs)\n",
    "\n",
    "mean = np.mean(diffs)\n",
    "print('Mean difference between pairs', mean)\n",
    "\n",
    "live_hist, live_bins = np.histogram(diffs, bins=range(min(diffs), max(diffs)+2))\n",
    "live_pmf = {key: val/len(diffs) for key, val in zip(live_bins, live_hist)}\n",
    "\n",
    "plt.bar(list(live_pmf.keys()), list(live_pmf.values()))\n",
    "plt.xlabel(\"Pregnancy Length Difference\")\n",
    "plt.ylabel(\"PMF\")\n",
    "plt.show()\n",
    "plt.close()"
   ]
  },
  {
   "cell_type": "markdown",
   "metadata": {},
   "source": [
    "**Exercise:** `numpy.random.random` 으로 만든 random number는 0과 1사이에 균일하게 분포해야 합니다. 즉, 모든 구간에서 균일한 확률로 존재해야 합니다.\n",
    "\n",
    "`numpy.random.random`으로 1000개의 숫자를 만들어 봅시다. \n",
    "\n",
    "1) PMF를 그려봅시다. 무슨 문제가 있을까요?\n",
    "\n",
    "2) CDF를 그려봅시다. 이 분포는 균일한가요?\n",
    "\n",
    "3) random number의 생성 숫자를 바꾸어 가면서 테스트 해 봅시다. bin의 숫자도 바꾸어 봅시다. bin size, random number의 수, 보이는 분포의 균일성 관계를 생각해 봅시다"
   ]
  },
  {
   "cell_type": "code",
   "execution_count": null,
   "metadata": {},
   "outputs": [],
   "source": [
    "randnums = np.random.random(1000)"
   ]
  },
  {
   "cell_type": "code",
   "execution_count": null,
   "metadata": {},
   "outputs": [],
   "source": [
    "# Solution goes here\n",
    "hist, bins = np.histogram(randnums, bins=100)\n",
    "pmf = {key: val/len(randnums) for key, val in zip(bins, hist)}\n",
    "plt.step(list(pmf.keys()), list(pmf.values()))\n",
    "plt.xlabel(\"Random Number\")\n",
    "plt.ylabel(\"PMF\")\n",
    "plt.show()\n",
    "plt.close()"
   ]
  },
  {
   "cell_type": "code",
   "execution_count": null,
   "metadata": {},
   "outputs": [],
   "source": [
    "# Solution goes here\n",
    "cdf = pmf2cdf(pmf)\n",
    "hist, bins = np.histogram(randnums, bins=100)\n",
    "plt.step(list(cdf.keys()), list(cdf.values()))\n",
    "plt.xlabel(\"Random Number\")\n",
    "plt.ylabel(\"CDF\")\n",
    "plt.show()\n",
    "plt.close()"
   ]
  },
  {
   "cell_type": "code",
   "execution_count": null,
   "metadata": {},
   "outputs": [],
   "source": []
  },
  {
   "cell_type": "code",
   "execution_count": null,
   "metadata": {},
   "outputs": [],
   "source": []
  },
  {
   "cell_type": "code",
   "execution_count": null,
   "metadata": {},
   "outputs": [],
   "source": []
  }
 ],
 "metadata": {
  "kernelspec": {
   "display_name": "Python 3",
   "language": "python",
   "name": "python3"
  },
  "language_info": {
   "codemirror_mode": {
    "name": "ipython",
    "version": 3
   },
   "file_extension": ".py",
   "mimetype": "text/x-python",
   "name": "python",
   "nbconvert_exporter": "python",
   "pygments_lexer": "ipython3",
   "version": "3.9.6 (default, Oct 18 2022, 12:41:40) \n[Clang 14.0.0 (clang-1400.0.29.202)]"
  },
  "vscode": {
   "interpreter": {
    "hash": "31f2aee4e71d21fbe5cf8b01ff0e069b9275f58929596ceb00d14d90e3e16cd6"
   }
  }
 },
 "nbformat": 4,
 "nbformat_minor": 4
}
